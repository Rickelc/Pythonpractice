{
 "cells": [
  {
   "cell_type": "markdown",
   "id": "8825584a",
   "metadata": {},
   "source": [
    "# Chapter 5 Exercises"
   ]
  },
  {
   "cell_type": "markdown",
   "id": "ebebe14e",
   "metadata": {},
   "source": [
    "## Algorithm Workbench Question 4\n",
    "### The question asks what will display  from the following code:\n",
    "def main():\n",
    "    x = 1\n",
    "    y= 3.4\n",
    "    print (x, y)\n",
    "    change_us(x, y)\n",
    "    print(x, y)\n",
    "def change_us(a, b)\n",
    "    a = 0\n",
    "    b = 0\n",
    "    print(a, b)\n",
    "main()\n",
    "\n",
    "\n",
    "I believe the code will display:\n",
    "1 3.4\n",
    "\n",
    "0 0\n",
    "\n",
    "1 3.4\n",
    "\n",
    "This is because what will be printed from x and y will always be the same in the same function unless called by a different function like in the function change_us. Since the variables were changed as arguments in the function change_us, they will display as different values only when that function is called. Otherwise their values will always be what is defined in the main function"
   ]
  },
  {
   "cell_type": "markdown",
   "id": "0ec66741",
   "metadata": {},
   "source": [
    "## Algorithm Workbench Question 6"
   ]
  },
  {
   "cell_type": "code",
   "execution_count": 1,
   "id": "c09a8689",
   "metadata": {},
   "outputs": [
    {
     "name": "stdout",
     "output_type": "stream",
     "text": [
      "27\n"
     ]
    }
   ],
   "source": [
    "#This question asks us to write a statement that generates a number 1 through 100 assigning it to the variable rand\n",
    "#importing the required module \n",
    "import random \n",
    "#assigning value to rand\n",
    "rand = random.randint(1, 100)\n",
    "print(rand)\n"
   ]
  },
  {
   "cell_type": "markdown",
   "id": "36f78fb9",
   "metadata": {},
   "source": [
    "## Programming Exercises Question 1"
   ]
  },
  {
   "cell_type": "code",
   "execution_count": 2,
   "id": "cb3b6d98",
   "metadata": {},
   "outputs": [
    {
     "name": "stdout",
     "output_type": "stream",
     "text": [
      "Enter a distance in Kilometers:75\n",
      "That amount converted to miles is 46.60 miles\n"
     ]
    }
   ],
   "source": [
    "#This question asks us to write a program that converts kilometers to miles \n",
    "#defining this as a function\n",
    "def main():\n",
    "    #Getting a number from the user\n",
    "    Kilo = int(input('Enter a distance in Kilometers:'))\n",
    "    #putting in the conversion\n",
    "    Miles = (Kilo * 0.6214)\n",
    "    #printing the result\n",
    "    print('That amount converted to miles is ' + format(Miles,',.2f'), 'miles')\n",
    "#calling the function\n",
    "main()\n",
    "    "
   ]
  },
  {
   "cell_type": "markdown",
   "id": "01187ba3",
   "metadata": {},
   "source": [
    "## Programming Exercises Question 17 Prime Numbers"
   ]
  },
  {
   "cell_type": "code",
   "execution_count": 3,
   "id": "1a954d65",
   "metadata": {},
   "outputs": [
    {
     "name": "stdout",
     "output_type": "stream",
     "text": [
      "Please enter an integer to see if it is prime:7\n",
      "7 is a prime number\n"
     ]
    }
   ],
   "source": [
    "# setting up the main function to run the prompt and message\n",
    "def main():\n",
    "    num = int(input('Please enter an integer to see if it is prime:'))\n",
    "    #calling the other function \n",
    "    is_prime(num)\n",
    "    #displaying the message whether or not it is a prime number\n",
    "    if is_prime(num):\n",
    "        print(num,'is a prime number')\n",
    "    else:\n",
    "        print(num,'is not a prime number')\n",
    "# setting up the function for determining whether a number is prime\n",
    "def is_prime(num):\n",
    "    for x in range(2, num):\n",
    "        if num % x == 0:\n",
    "            return False\n",
    "    return True \n",
    "# calling the main function to run the program\n",
    "main()"
   ]
  },
  {
   "cell_type": "markdown",
   "id": "8609614d",
   "metadata": {},
   "source": [
    "## Programming Exercises Question 18 Prime Number list"
   ]
  },
  {
   "cell_type": "code",
   "execution_count": 8,
   "id": "608ea787",
   "metadata": {},
   "outputs": [
    {
     "name": "stdout",
     "output_type": "stream",
     "text": [
      "1 is prime\n",
      "2 is prime\n",
      "3 is prime\n",
      "5 is prime\n",
      "7 is prime\n",
      "11 is prime\n",
      "13 is prime\n",
      "17 is prime\n",
      "19 is prime\n",
      "23 is prime\n",
      "29 is prime\n",
      "31 is prime\n",
      "37 is prime\n",
      "41 is prime\n",
      "43 is prime\n",
      "47 is prime\n",
      "53 is prime\n",
      "59 is prime\n",
      "61 is prime\n",
      "67 is prime\n",
      "71 is prime\n",
      "73 is prime\n",
      "79 is prime\n",
      "83 is prime\n",
      "89 is prime\n",
      "97 is prime\n"
     ]
    }
   ],
   "source": [
    "#New main function for displaying the prime numbers from 1 to 100\n",
    "def main():\n",
    "    for x in range(1, 101):\n",
    "        if is_prime(x):\n",
    "            print(x, 'is prime')\n",
    "       \n",
    "\n",
    "#copying from previous so that this question has this function as well\n",
    "def is_prime(num):\n",
    "    for x in range(2, num):\n",
    "        if num % x == 0: \n",
    "            return False\n",
    "    return True \n",
    "main()\n",
    "\n"
   ]
  },
  {
   "cell_type": "markdown",
   "id": "85eb2301",
   "metadata": {},
   "source": [
    "## Programming Exercises Question 21 Rock Paper Scissors"
   ]
  },
  {
   "cell_type": "code",
   "execution_count": 12,
   "id": "00a877d8",
   "metadata": {},
   "outputs": [
    {
     "name": "stdout",
     "output_type": "stream",
     "text": [
      "Enter rock, paper, or scissors:paper\n",
      "computer played rock \n",
      "\n",
      "You win! paper beats rock! \n",
      "\n"
     ]
    }
   ],
   "source": [
    "#importing random for the computer random choices\n",
    "import random\n",
    "# setting the program as a functionm\n",
    "def main():\n",
    "    # keeping tie as true unless otherwise to simplify the rest of the program\n",
    "    tie = True\n",
    "    while tie:\n",
    "        number = random.randint(1, 3)\n",
    "        # giving the computer a random choice for the game based on integers\n",
    "        computer = ''\n",
    "        if number == 1:\n",
    "            computer = 'rock'\n",
    "        if number == 2:\n",
    "            computer = 'paper'\n",
    "        if number == 3:\n",
    "            computer = 'scissors'\n",
    "        #starting input by user\n",
    "        player = input('Enter rock, paper, or scissors:')\n",
    "        # displaying the random choice the computer made\n",
    "        print('computer played', computer,'\\n')\n",
    "        # in the event of a tie\n",
    "        if computer == player:\n",
    "            print('its a tie!\\n')\n",
    "            number = random.randint(1, 3)\n",
    "        # setting up if's for all other possibilities for this game\n",
    "        # also making sure that tie is false in the event that it is not a tie\n",
    "        if computer == 'rock' and player == 'paper':\n",
    "            print('You win! paper beats rock!','\\n')\n",
    "            tie = False\n",
    "        if computer == 'paper' and player == 'rock':\n",
    "            print('You lose! paper beats rock','\\n')\n",
    "            tie = False\n",
    "        if computer == 'paper' and player == 'scissors':\n",
    "            print('You win! scissors beat paper!','\\n')\n",
    "            tie = False\n",
    "        if computer == 'scissors' and player == 'paper':\n",
    "            print('You lose! scissors beat paper','\\n')\n",
    "            tie = False\n",
    "        if computer == 'scissors' and player == 'rock':\n",
    "            print('You win! rock beats scissors','\\n')\n",
    "            tie = False\n",
    "        if computer == 'rock' and player == \"scissors\":\n",
    "            print('You lose! rock beats scissors','\\n')\n",
    "            tie = False\n",
    "# calling main function\n",
    "main()"
   ]
  },
  {
   "cell_type": "code",
   "execution_count": null,
   "id": "23b4dd63",
   "metadata": {},
   "outputs": [],
   "source": []
  }
 ],
 "metadata": {
  "kernelspec": {
   "display_name": "Python 3 (ipykernel)",
   "language": "python",
   "name": "python3"
  },
  "language_info": {
   "codemirror_mode": {
    "name": "ipython",
    "version": 3
   },
   "file_extension": ".py",
   "mimetype": "text/x-python",
   "name": "python",
   "nbconvert_exporter": "python",
   "pygments_lexer": "ipython3",
   "version": "3.11.4"
  }
 },
 "nbformat": 4,
 "nbformat_minor": 5
}
