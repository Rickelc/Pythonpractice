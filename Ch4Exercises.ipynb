{
 "cells": [
  {
   "cell_type": "markdown",
   "id": "94a093ea",
   "metadata": {},
   "source": [
    "# Chapter 4 Exercises"
   ]
  },
  {
   "cell_type": "markdown",
   "id": "2001decc",
   "metadata": {},
   "source": [
    "## Algorithm Workbench Question 3"
   ]
  },
  {
   "cell_type": "code",
   "execution_count": 1,
   "id": "c98655da",
   "metadata": {},
   "outputs": [
    {
     "name": "stdout",
     "output_type": "stream",
     "text": [
      "0\n",
      "10\n",
      "20\n",
      "30\n",
      "40\n",
      "50\n",
      "60\n",
      "70\n",
      "80\n",
      "90\n",
      "100\n",
      "110\n",
      "120\n",
      "130\n",
      "140\n",
      "150\n",
      "160\n",
      "170\n",
      "180\n",
      "190\n",
      "200\n",
      "210\n",
      "220\n",
      "230\n",
      "240\n",
      "250\n",
      "260\n",
      "270\n",
      "280\n",
      "290\n",
      "300\n",
      "310\n",
      "320\n",
      "330\n",
      "340\n",
      "350\n",
      "360\n",
      "370\n",
      "380\n",
      "390\n",
      "400\n",
      "410\n",
      "420\n",
      "430\n",
      "440\n",
      "450\n",
      "460\n",
      "470\n",
      "480\n",
      "490\n",
      "500\n",
      "510\n",
      "520\n",
      "530\n",
      "540\n",
      "550\n",
      "560\n",
      "570\n",
      "580\n",
      "590\n",
      "600\n",
      "610\n",
      "620\n",
      "630\n",
      "640\n",
      "650\n",
      "660\n",
      "670\n",
      "680\n",
      "690\n",
      "700\n",
      "710\n",
      "720\n",
      "730\n",
      "740\n",
      "750\n",
      "760\n",
      "770\n",
      "780\n",
      "790\n",
      "800\n",
      "810\n",
      "820\n",
      "830\n",
      "840\n",
      "850\n",
      "860\n",
      "870\n",
      "880\n",
      "890\n",
      "900\n",
      "910\n",
      "920\n",
      "930\n",
      "940\n",
      "950\n",
      "960\n",
      "970\n",
      "980\n",
      "990\n",
      "1000\n"
     ]
    }
   ],
   "source": [
    "# Writing a for loop that displays numbers by 10s to 1000\n",
    "x = 0\n",
    "for x in range(0,1001,10):\n",
    "    print (x)"
   ]
  },
  {
   "cell_type": "markdown",
   "id": "04a4b092",
   "metadata": {},
   "source": [
    "## Algorithm Workbench Question 2"
   ]
  },
  {
   "cell_type": "code",
   "execution_count": 2,
   "id": "0b2728a5",
   "metadata": {},
   "outputs": [
    {
     "name": "stdout",
     "output_type": "stream",
     "text": [
      "Enter your first number:5\n",
      "Enter your second number:7\n",
      "The total of the numbers is 12\n",
      "Do you want to add another number? (Enter y for yes):y\n",
      "Enter your first number:9\n",
      "Enter your second number:4\n",
      "The total of the numbers is 25\n",
      "Do you want to add another number? (Enter y for yes):n\n"
     ]
    }
   ],
   "source": [
    "# Writing a while loop that asks for 2 numbers then loops and adds the numbers together\n",
    "#assigning beginning values to start the loop\n",
    "total = 0\n",
    "keep_going = 'y'\n",
    "#While loop to keep the program going while the user wants to enter more numbers\n",
    "while keep_going == 'y':\n",
    "    number1 = int(input('Enter your first number:'))\n",
    "    number2 = int(input('Enter your second number:'))\n",
    "    total += (number1 + number2)\n",
    "    print ('The total of the numbers is',total)\n",
    "\n",
    "    keep_going = input('Do you want to add another number? (Enter y for yes):')\n"
   ]
  },
  {
   "cell_type": "markdown",
   "id": "cbb9b7aa",
   "metadata": {},
   "source": [
    "## Programming Exercises Question 1"
   ]
  },
  {
   "cell_type": "code",
   "execution_count": 3,
   "id": "4aa430c4",
   "metadata": {},
   "outputs": [
    {
     "name": "stdout",
     "output_type": "stream",
     "text": [
      "day: 1\n",
      "Enter the number of bugs collected on the day:5\n",
      "day: 2\n",
      "Enter the number of bugs collected on the day:2\n",
      "day: 3\n",
      "Enter the number of bugs collected on the day:7\n",
      "day: 4\n",
      "Enter the number of bugs collected on the day:6\n",
      "day: 5\n",
      "Enter the number of bugs collected on the day:4\n",
      "Total number of bugs collected are: 24\n"
     ]
    }
   ],
   "source": [
    "# writing a program that asks for how many bugs were collected each of the 5 days and displays the total\n",
    "total_days = 5\n",
    "day = 1\n",
    "total_bugs = 0\n",
    "\n",
    "while day <= total_days:\n",
    "    print('day:',day)\n",
    "    bugs_collected = int(input('Enter the number of bugs collected on the day:'))\n",
    "    total_bugs += bugs_collected\n",
    "    day += 1\n",
    "    \n",
    "print('Total number of bugs collected are:', total_bugs)"
   ]
  },
  {
   "cell_type": "markdown",
   "id": "844ed42a",
   "metadata": {},
   "source": [
    "## Programming Exercises Question 4"
   ]
  },
  {
   "cell_type": "code",
   "execution_count": 4,
   "id": "0193c6cc",
   "metadata": {},
   "outputs": [
    {
     "name": "stdout",
     "output_type": "stream",
     "text": [
      "Enter the speed of the vehicle in mph:60\n",
      "Enter the amount of time the vehicle has traveled:6\n",
      "Hour \tDistanceTraveled\n",
      "1\t60\n",
      "2\t120\n",
      "3\t180\n",
      "4\t240\n",
      "5\t300\n",
      "6\t360\n"
     ]
    }
   ],
   "source": [
    "#We are asked to write a program that asks for a table with time and distance traveled based on the user input\n",
    "#Creating the variables to use in the table\n",
    "speed = float(input('Enter the speed of the vehicle in mph:'))\n",
    "time = int(input('Enter the amount of time the vehicle has traveled:'))\n",
    "#creating the table headers\n",
    "print('Hour \\tDistanceTraveled')\n",
    "#Creating the rest of the table and calcuation for number inside the table\n",
    "for x in range(1, time + 1):\n",
    "    distance = speed * x\n",
    "    #format for table to line with headers\n",
    "    print(x, '\\t', format(distance, '.0f') , sep ='')\n",
    "    "
   ]
  },
  {
   "cell_type": "markdown",
   "id": "7ff6a408",
   "metadata": {},
   "source": [
    "## Programming Exercises Question 13"
   ]
  },
  {
   "cell_type": "code",
   "execution_count": 8,
   "id": "110d9390",
   "metadata": {},
   "outputs": [
    {
     "name": "stdout",
     "output_type": "stream",
     "text": [
      "Enter the number of organisms:10\n",
      "Enter the average daily increase:50\n",
      "Enter the number of days:7\n",
      "Days approximate \t Population\n",
      "1 \t\t\t 10.00\n",
      "2 \t\t\t 60.00\n",
      "3 \t\t\t 110.00\n",
      "4 \t\t\t 160.00\n",
      "5 \t\t\t 210.00\n",
      "6 \t\t\t 260.00\n",
      "7 \t\t\t 310.00\n"
     ]
    }
   ],
   "source": [
    "#We are asked to write a program displaying user input on days and population increase\n",
    "number = int(input('Enter the number of organisms:'))\n",
    "increase = int(input('Enter the average daily increase:'))\n",
    "days = int(input('Enter the number of days:'))\n",
    "#making the table header with the tab input\n",
    "print('Days approximate \\t Population')\n",
    "# Our for loop for making the table in range for the number of days\n",
    "for x in range(1, days + 1):\n",
    "    if x > 1:\n",
    "        increase2 = number * (increase /100)\n",
    "        number += increase\n",
    "    #setting the format for the table numbers so it lines up with headers\n",
    "    print(x,'\\t\\t\\t',format(number, '.2f'))"
   ]
  },
  {
   "cell_type": "markdown",
   "id": "b233cbdc",
   "metadata": {},
   "source": [
    "## Programming Exercises Question 14"
   ]
  },
  {
   "cell_type": "code",
   "execution_count": 6,
   "id": "268e8523",
   "metadata": {},
   "outputs": [
    {
     "name": "stdout",
     "output_type": "stream",
     "text": [
      "*******\n",
      "\n",
      "******\n",
      "\n",
      "*****\n",
      "\n",
      "****\n",
      "\n",
      "***\n",
      "\n",
      "**\n",
      "\n",
      "*\n",
      "\n"
     ]
    }
   ],
   "source": [
    "#we are asked to write a program that shows a pattern of stars in a nested loop\n",
    "# setting the range to 7 lines and starting our nested loop\n",
    "for x in range(7,0,-1):\n",
    "    for y in range(x):\n",
    "        print('*', end = '')\n",
    "    #New line\n",
    "    print('\\n')\n"
   ]
  },
  {
   "cell_type": "code",
   "execution_count": null,
   "id": "0fd778af",
   "metadata": {},
   "outputs": [],
   "source": []
  }
 ],
 "metadata": {
  "kernelspec": {
   "display_name": "Python 3 (ipykernel)",
   "language": "python",
   "name": "python3"
  },
  "language_info": {
   "codemirror_mode": {
    "name": "ipython",
    "version": 3
   },
   "file_extension": ".py",
   "mimetype": "text/x-python",
   "name": "python",
   "nbconvert_exporter": "python",
   "pygments_lexer": "ipython3",
   "version": "3.11.4"
  }
 },
 "nbformat": 4,
 "nbformat_minor": 5
}
