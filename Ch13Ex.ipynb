{
 "cells": [
  {
   "cell_type": "markdown",
   "id": "4ef38dd4",
   "metadata": {},
   "source": [
    "# Chapter 13 Exercise 3\n",
    "\n",
    "Here we are going to be writing a program that creates a GUI that prompts the user to enter the number of gallons a car holds and the miles it will go on a full tank. The program will then display the calcuated miles per gallon to the user"
   ]
  },
  {
   "cell_type": "markdown",
   "id": "e1bcacaa",
   "metadata": {},
   "source": [
    "We are going to do this by creating two frames, one for the prompts and one for the two buttons to calculate and to quit the program. I will need to make a seperate function in the program that will calculate the miles per gallon and display the results."
   ]
  },
  {
   "cell_type": "code",
   "execution_count": 3,
   "id": "5ead22f9",
   "metadata": {},
   "outputs": [],
   "source": [
    "import tkinter\n",
    "import tkinter.messagebox\n",
    "\n",
    "class MyGUI():\n",
    "    def __init__(self):\n",
    "        #making the main window for the GUI\n",
    "        self.main_window = tkinter.Tk()\n",
    "        \n",
    "        #creating the two frames in the window that will seperate the prompts and buttons\n",
    "        self.top_frame = tkinter.Frame(self.main_window)\n",
    "        self.bottom_frame = tkinter.Frame(self.main_window)\n",
    "        \n",
    "        #creating the prompts for both the gallons and the miles on a full tank\n",
    "        self.prompt_label1 = tkinter.Label(self.top_frame, text = 'Enter the number of gallons the car holds: ')\n",
    "        self.gallon_entry = tkinter.Entry(self.top_frame, width = 10)\n",
    "        \n",
    "        self.prompt_label2 = tkinter.Label(self.top_frame, text = 'Enter the number of miles the car can go on a full tank: ')\n",
    "        self.miles_entry = tkinter.Entry(self.top_frame, width = 10)\n",
    "        \n",
    "        self.prompt_label1.pack(side = 'left')\n",
    "        self.gallon_entry.pack(side = 'left')\n",
    "        \n",
    "        self.prompt_label2.pack(side = 'left')\n",
    "        self.miles_entry.pack(side = 'left')\n",
    "        \n",
    "        #creating the buttons of the GUI for the calculate mpg button and the quit button\n",
    "        self.calc_button = tkinter.Button(self.bottom_frame, text = 'Calculate MPG', command = self.convert)\n",
    "        self.quit_button = tkinter.Button(self.bottom_frame, text = 'Quit', command = self.main_window.destroy)\n",
    "        \n",
    "        self.calc_button.pack(side = 'left')\n",
    "        self.quit_button.pack(side = 'left')\n",
    "        \n",
    "        #using pack to display all of whats in the frames in the window\n",
    "        self.top_frame.pack()\n",
    "        self.bottom_frame.pack()\n",
    "        \n",
    "        #calling mainloop to continuously show the window\n",
    "        tkinter.mainloop()\n",
    "        \n",
    "    #creating the function to calcuate mpg and show the results     \n",
    "    def convert(self):\n",
    "        #creating variables to more easily calcuate miles per gallon\n",
    "        gallons = float(self.gallon_entry.get())\n",
    "        miles = float(self.miles_entry.get())\n",
    "        \n",
    "        #the calcuation\n",
    "        mpg = miles / gallons\n",
    "        \n",
    "        #using a message box to display the results to the user\n",
    "        tkinter.messagebox.showinfo('Results', 'The car can go ' + str(mpg) + ' miles per gallon of gas')\n",
    "  \n",
    "\n",
    "my_gui = MyGUI()"
   ]
  },
  {
   "cell_type": "code",
   "execution_count": null,
   "id": "2f93b98d",
   "metadata": {},
   "outputs": [],
   "source": []
  }
 ],
 "metadata": {
  "kernelspec": {
   "display_name": "Python 3 (ipykernel)",
   "language": "python",
   "name": "python3"
  },
  "language_info": {
   "codemirror_mode": {
    "name": "ipython",
    "version": 3
   },
   "file_extension": ".py",
   "mimetype": "text/x-python",
   "name": "python",
   "nbconvert_exporter": "python",
   "pygments_lexer": "ipython3",
   "version": "3.11.4"
  }
 },
 "nbformat": 4,
 "nbformat_minor": 5
}
