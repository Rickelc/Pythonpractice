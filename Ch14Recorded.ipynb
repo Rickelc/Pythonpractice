{
 "cells": [
  {
   "cell_type": "markdown",
   "id": "e4e7b581",
   "metadata": {},
   "source": [
    "# Chapter 13 Question 4\n",
    "\n",
    "This Question asks to make a GUI in which the user inputs a temperature in Celsius and the program outputs what that temperature equates to in Fahrenheit. For this GUI, I am going to make 2 frames, one for the label prompting the user and for the user entry, and the other frame for the calculate and quit buttons. The program will then display a message box displaying the results."
   ]
  },
  {
   "cell_type": "code",
   "execution_count": 4,
   "id": "525e0503",
   "metadata": {},
   "outputs": [],
   "source": [
    "#importing the tkinter modules\n",
    "import tkinter\n",
    "import tkinter.messagebox\n",
    "\n",
    "#creating the GUI class \n",
    "class TempGUI():\n",
    "    #making the inital function where the majority of the program will be\n",
    "    def __init__(self):\n",
    "        #making the main window with the tkinter function\n",
    "        self.main_window = tkinter.Tk()\n",
    "        \n",
    "        #now making the top and bottom frames for the window\n",
    "        self.top_frame = tkinter.Frame(self.main_window)\n",
    "        self.bottom_frame = tkinter.Frame(self.main_window)\n",
    "        \n",
    "        #creating the prompt as a label and making an entry window for the user\n",
    "        self.prompt_label = tkinter.Label(self.top_frame, text = 'Enter the temperature in Celsius: ')\n",
    "        self.temp_entry = tkinter.Entry(self.top_frame, width = 10)\n",
    "        \n",
    "        #using pack to execute the label and entry\n",
    "        self.prompt_label.pack(side = 'left')\n",
    "        self.temp_entry.pack(side = 'left')\n",
    "        \n",
    "        self.calc_button = tkinter.Button(self.bottom_frame, text = 'Calculate Fahrenheit', command = self.convert)\n",
    "        self.quit_button = tkinter.Button(self.bottom_frame, text = 'Quit', command = self.main_window.destroy)\n",
    "        \n",
    "        #packing the buttons on the bottom frame\n",
    "        self.calc_button.pack(side = 'left')\n",
    "        self.quit_button.pack(side = 'left')\n",
    "        \n",
    "        #looks like i forgot to pack both of the frames so that they execute. way to miss that lol\n",
    "        self.top_frame.pack()\n",
    "        self.bottom_frame.pack()\n",
    "        \n",
    "        #using the mainloop function to continuously run the windoe\n",
    "        tkinter.mainloop()\n",
    "        \n",
    "    #now I am making a function to convert the inputted celsius into fahrenheit and displaying the results in a message box\n",
    "    def convert(self):\n",
    "        #giving a variable to the user input\n",
    "        c_temp = float(self.temp_entry.get())\n",
    "        \n",
    "        #making a variable for the calcuations that need to be made to convert the temperature\n",
    "        f_temp = ((9/5) * c_temp) + 32\n",
    "        \n",
    "        #creating the resulting message box\n",
    "        tkinter.messagebox.showinfo('Results', str(c_temp) + ' degrees in Celsius is ' + str(f_temp) + ' degrees in Fahrenheit.')\n",
    "        \n",
    "#creating an instance of the GUI to run\n",
    "my_gui = TempGUI()\n",
    "        \n",
    "        "
   ]
  },
  {
   "cell_type": "code",
   "execution_count": null,
   "id": "8441d557",
   "metadata": {},
   "outputs": [],
   "source": []
  }
 ],
 "metadata": {
  "kernelspec": {
   "display_name": "Python 3 (ipykernel)",
   "language": "python",
   "name": "python3"
  },
  "language_info": {
   "codemirror_mode": {
    "name": "ipython",
    "version": 3
   },
   "file_extension": ".py",
   "mimetype": "text/x-python",
   "name": "python",
   "nbconvert_exporter": "python",
   "pygments_lexer": "ipython3",
   "version": "3.11.4"
  }
 },
 "nbformat": 4,
 "nbformat_minor": 5
}
