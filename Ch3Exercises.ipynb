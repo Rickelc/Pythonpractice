{
 "cells": [
  {
   "cell_type": "markdown",
   "id": "eb36a115",
   "metadata": {},
   "source": [
    "# Chapter 3 Exercises"
   ]
  },
  {
   "cell_type": "markdown",
   "id": "16f3190a",
   "metadata": {},
   "source": [
    "## Algorithm Workbench Question 4"
   ]
  },
  {
   "cell_type": "code",
   "execution_count": 1,
   "id": "059d9cc3",
   "metadata": {
    "scrolled": true
   },
   "outputs": [
    {
     "name": "stdout",
     "output_type": "stream",
     "text": [
      "Please enter your grade:67\n",
      "Your grade is D.\n"
     ]
    }
   ],
   "source": [
    "# adding variables so that the code will work properly\n",
    "score = float(input(\"Please enter your grade:\"))\n",
    "A_score = 90\n",
    "B_score = 80\n",
    "C_score = 70\n",
    "D_score = 60\n",
    "# We are asked to correct the indentation of the following code\n",
    "if score >= A_score:\n",
    "    print ('Your grade is A.')\n",
    "else: \n",
    "    if score >= B_score:\n",
    "        print ('Your grade is B.')\n",
    "    else:\n",
    "        if score >= C_score:\n",
    "            print('Your grade is C.')\n",
    "        else:\n",
    "            if score >= D_score:\n",
    "                print('Your grade is D.')\n",
    "            else:\n",
    "                 print('Your grade is F.')\n",
    "# had some issues in both of these workbench problems remembering the correct indentation after the if statement"
   ]
  },
  {
   "cell_type": "markdown",
   "id": "8e6aad4f",
   "metadata": {},
   "source": [
    "##  Algorithm Workbench Question 5"
   ]
  },
  {
   "cell_type": "code",
   "execution_count": null,
   "id": "efbb1083",
   "metadata": {},
   "outputs": [],
   "source": [
    "# We are asked to write a code that shows which amount entered is greater than the other\n",
    "#giving the variables values by what the user inputs\n",
    "amount1 = float(input(\"Please enter amount1:\"))\n",
    "amount2 = float(input(\"Please enter amount2:\"))\n",
    "# adding the if-else for displaying the correct number\n",
    "if amount1 > 10 and amount2 < 100:\n",
    "    if amount1 > amount2:\n",
    "        print (amount1)\n",
    "    else:\n",
    "        print (amount2)"
   ]
  },
  {
   "cell_type": "markdown",
   "id": "3b7db137",
   "metadata": {},
   "source": [
    "## Programming Exercises Question 1"
   ]
  },
  {
   "cell_type": "code",
   "execution_count": 1,
   "id": "c964b742",
   "metadata": {},
   "outputs": [
    {
     "name": "stdout",
     "output_type": "stream",
     "text": [
      "Enter a whole number between 1 and 7: 9\n",
      "Error: Please enter a number 1 through 7\n"
     ]
    }
   ],
   "source": [
    "# We are asked to write a program that asks the user for a number in the range of 1 through 7 and then displaying what day of the week that number corresponds to\n",
    "# asking the user to enter a number 1-7\n",
    "number = float(input('Enter a whole number between 1 and 7: '))\n",
    "#adding the if for numbers 1-7\n",
    "if number == 1:\n",
    "    print('Today is Monday.')\n",
    "elif number == 2:\n",
    "    print('Today is Tuesday.')\n",
    "elif number == 3:\n",
    "    print('Today is Wednesday.')\n",
    "elif number == 4:\n",
    "    print('Today is Thursday.')\n",
    "elif number == 5:\n",
    "    print('Today is Friday.')\n",
    "elif number == 6:\n",
    "    print('Today is Saturday.')\n",
    "elif number == 7:\n",
    "    print('Today is Sunday.')\n",
    "# adding the asked for error message when a number this is not 1 through 7 is entered\n",
    "else:\n",
    "    print('Error: Please enter a number 1 through 7')\n",
    "        "
   ]
  },
  {
   "cell_type": "markdown",
   "id": "48e4f643",
   "metadata": {},
   "source": [
    "## Programming Exercises Question 5"
   ]
  },
  {
   "cell_type": "code",
   "execution_count": 9,
   "id": "4cb74554",
   "metadata": {},
   "outputs": [
    {
     "name": "stdout",
     "output_type": "stream",
     "text": [
      "Enter the objects mass in kilograms: 20\n",
      "In Newtons, that weighs: 196.00\n",
      "The objects mass is just right.\n"
     ]
    }
   ],
   "source": [
    "#here we are asked to write a program that transfers grams to newtons and the result will say if it is too light, heavy or just right\n",
    "#asking the user to enter the mass in kilograms\n",
    "kilos = float(input('Enter the objects mass in kilograms: '))\n",
    "# calculating the mass in newtons\n",
    "newtons = kilos * 9.8\n",
    "print('In Newtons, that weighs: ' + format(newtons, ',.2f'))\n",
    "# displaying if the mass is too heavy, too light, or just right\n",
    "if newtons > 500:\n",
    "      print('The object is too heavy.')\n",
    "elif newtons < 100:\n",
    "      print('The object is too light.')\n",
    "else:\n",
    "      print('The objects mass is just right.')"
   ]
  },
  {
   "cell_type": "markdown",
   "id": "2dcc40bf",
   "metadata": {},
   "source": [
    "## Programming Exercises Question 15"
   ]
  },
  {
   "cell_type": "code",
   "execution_count": 15,
   "id": "1f522f07",
   "metadata": {},
   "outputs": [
    {
     "name": "stdout",
     "output_type": "stream",
     "text": [
      "Enter time in seconds:100000\n",
      "The time you entered is equal to 1 days 3 hours 46 minutes and 40 seconds\n"
     ]
    }
   ],
   "source": [
    "# We are asked to create a time calculator that displays days hours minutes and seconds\n",
    "#asking the user to enter the time in seconds\n",
    "time = int(input('Enter time in seconds:'))\n",
    "# giving the varibles for time a beginning value of 0\n",
    "seconds = 0\n",
    "minutes = 0\n",
    "hours = 0\n",
    "days = 0\n",
    "# giving all of the if-else statements for the wanted amounts of time \n",
    "if time < 60:\n",
    "    seconds = time\n",
    "    print('The time you entered is equal to',seconds,'seconds')\n",
    "elif time >= 60 and time < 3600:\n",
    "    minutes = time // 60\n",
    "    seconds = time % 60\n",
    "    print ('The time you entered is equal to',minutes,'minutes and',seconds,'seconds')\n",
    "elif time >= 3600 and time < 86400:\n",
    "    hours = time // 3600\n",
    "    minutes = (time % 3600) // 60\n",
    "    seconds = (time % 3600) % 60\n",
    "    print ('The time you entered is equal to',hours,'hours',minutes,'minutes and',seconds,'seconds')\n",
    "elif time >= 86400:\n",
    "    days = time // 86400\n",
    "    hours = (time % 86400) // 3600 \n",
    "    minutes = ((time % 86400) % 3600) // 60\n",
    "    seconds = ((time %86400) % 3600) % 60\n",
    "    print ('The time you entered is equal to',days,'days',hours,'hours',minutes,'minutes and',seconds,'seconds')\n",
    "    "
   ]
  },
  {
   "cell_type": "markdown",
   "id": "459bdc18",
   "metadata": {},
   "source": [
    "## Programming Exercises Question 16"
   ]
  },
  {
   "cell_type": "code",
   "execution_count": 14,
   "id": "7002b420",
   "metadata": {},
   "outputs": [
    {
     "name": "stdout",
     "output_type": "stream",
     "text": [
      "Enter the year:2024\n",
      "In 2024 February has 29 days\n"
     ]
    }
   ],
   "source": [
    "# we are asked to write a program that displays the number of days in february whether or not it is a leap year\n",
    "# asking the user to enter the year\n",
    "year = int(input('Enter the year:'))\n",
    "if (year % 100 == 0 and year % 400 == 0) or year % 4 == 0:\n",
    "    print('In',year, 'February has 29 days')\n",
    "else:\n",
    "    print('In',year,'February has 28 days')"
   ]
  },
  {
   "cell_type": "code",
   "execution_count": null,
   "id": "d801a1a2",
   "metadata": {},
   "outputs": [],
   "source": []
  }
 ],
 "metadata": {
  "kernelspec": {
   "display_name": "Python 3 (ipykernel)",
   "language": "python",
   "name": "python3"
  },
  "language_info": {
   "codemirror_mode": {
    "name": "ipython",
    "version": 3
   },
   "file_extension": ".py",
   "mimetype": "text/x-python",
   "name": "python",
   "nbconvert_exporter": "python",
   "pygments_lexer": "ipython3",
   "version": "3.11.4"
  }
 },
 "nbformat": 4,
 "nbformat_minor": 5
}
