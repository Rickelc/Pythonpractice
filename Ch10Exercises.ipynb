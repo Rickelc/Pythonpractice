{
 "cells": [
  {
   "cell_type": "markdown",
   "id": "268c57ff",
   "metadata": {},
   "source": [
    "# Chapter 10 Programming Exercises Question 1"
   ]
  },
  {
   "cell_type": "code",
   "execution_count": 4,
   "id": "6e3911e1",
   "metadata": {},
   "outputs": [
    {
     "name": "stdout",
     "output_type": "stream",
     "text": [
      "Enter in your pet's name:Rocky\n",
      "Enter in the type of pet you have:Cat\n",
      "Enter in the age of your pet:7\n",
      "Here is the data that was entered:\n",
      "Name: Rocky\n",
      "Animal type: Cat\n",
      "Age: 7\n"
     ]
    }
   ],
   "source": [
    "#importing the pet class \n",
    "import pet\n",
    "#main function for asking the user to input info and displaying it\n",
    "def main():\n",
    "    #prompting the user to enter the pet info\n",
    "    name_pet = input(\"Enter in your pet's name:\")\n",
    "    pet_type = input(\"Enter in the type of pet you have:\")\n",
    "    age_pet = input(\"Enter in the age of your pet:\")\n",
    "    \n",
    "    #calling the class and setting the variables I made to the function arguments\n",
    "    pet_info = pet.Pet(name_pet, pet_type, age_pet)\n",
    "    \n",
    "    #printing and displaying the entered information from the class functions\n",
    "    print(\"Here is the data that was entered:\")\n",
    "    print(\"Name:\", pet_info.get_name())\n",
    "    print(\"Animal type:\", pet_info.get_animal_type())\n",
    "    print(\"Age:\", pet_info.get_age())\n",
    "    \n",
    "#calling the main function\n",
    "main()"
   ]
  },
  {
   "cell_type": "markdown",
   "id": "cb850954",
   "metadata": {},
   "source": [
    "# Programming Exercises Question 4"
   ]
  },
  {
   "cell_type": "code",
   "execution_count": 7,
   "id": "890ed38d",
   "metadata": {},
   "outputs": [
    {
     "name": "stdout",
     "output_type": "stream",
     "text": [
      "Enter data for three employees:\n",
      "Name 1:\n",
      "Enter the name of the employee: Susan Meyers\n",
      "Enter the ID number for the employee: 47899\n",
      "Enter the department that the employee works for: Accounting\n",
      "Enter the employee's job title: Vice President\n",
      "\n",
      "Name 2:\n",
      "Enter the name of the employee: Mark Jones\n",
      "Enter the ID number for the employee: 39119\n",
      "Enter the department that the employee works for: IT\n",
      "Enter the employee's job title: Programmer\n",
      "\n",
      "Name 3:\n",
      "Enter the name of the employee: Joy Rogers\n",
      "Enter the ID number for the employee: 81774\n",
      "Enter the department that the employee works for: Manufacturing\n",
      "Enter the employee's job title: Engineer\n",
      "\n",
      "Here is the data you entered:\n",
      "Name:  Susan Meyers\n",
      "ID number:  47899\n",
      "Department:  Accounting\n",
      "Job Title:  Vice President\n",
      "\n",
      "Name:  Mark Jones\n",
      "ID number:  39119\n",
      "Department:  IT\n",
      "Job Title:  Programmer\n",
      "\n",
      "Name:  Joy Rogers\n",
      "ID number:  81774\n",
      "Department:  Manufacturing\n",
      "Job Title:  Engineer\n",
      "\n"
     ]
    }
   ],
   "source": [
    "#importing our class for the employee information\n",
    "import employinfo\n",
    "\n",
    "#creating a function to take the information from the user and show it\n",
    "def show_list():\n",
    "    #giving the values made from the main function to an info variable\n",
    "    info = main()\n",
    "    \n",
    "    #displaying the info from a different function\n",
    "    print('Here is the data you entered:')\n",
    "    display_list(info)\n",
    "    \n",
    "def main():\n",
    "    #making a blank list to use that the info entered is added to\n",
    "    info_list = []\n",
    "    \n",
    "    print('Enter data for three employees:')\n",
    "    \n",
    "    #using a for loop to prompt the user to enter the employee info for each of the three employees in the exercise\n",
    "    for count in range(1,4):\n",
    "        print('Name ' + str(count) + ':')\n",
    "        name = input('Enter the name of the employee: ')\n",
    "        id_num = input('Enter the ID number for the employee: ')\n",
    "        dept = input('Enter the department that the employee works for: ')\n",
    "        title = input(\"Enter the employee's job title: \")\n",
    "        print()\n",
    "        \n",
    "        #calling the class to give variables for the user info as arguments for the class functions\n",
    "        info = employinfo.Employinfo(name, id_num, dept, title)\n",
    "        \n",
    "        #appending the blank list with the infomation added to the info variable from this main function\n",
    "        info_list.append(info)\n",
    "    \n",
    "    #returning the list to where the main function is called\n",
    "    return info_list\n",
    "\n",
    "#This function will format how the information is displayed after it is entered using a for loop\n",
    "def display_list(info_list):\n",
    "    #the for loop will display all the info in this format for each employee entered in the list\n",
    "    for item in info_list:\n",
    "        print('Name: ', item.get_name())\n",
    "        print('ID number: ', item.get_id_num())\n",
    "        print('Department: ', item.get_dept())\n",
    "        print('Job Title: ', item.get_title())\n",
    "        print()\n",
    "   \n",
    "#calling the function to start the program\n",
    "show_list()\n",
    "                      \n",
    "        \n",
    "    "
   ]
  },
  {
   "cell_type": "code",
   "execution_count": null,
   "id": "1e3f6c9f",
   "metadata": {},
   "outputs": [],
   "source": []
  }
 ],
 "metadata": {
  "kernelspec": {
   "display_name": "Python 3 (ipykernel)",
   "language": "python",
   "name": "python3"
  },
  "language_info": {
   "codemirror_mode": {
    "name": "ipython",
    "version": 3
   },
   "file_extension": ".py",
   "mimetype": "text/x-python",
   "name": "python",
   "nbconvert_exporter": "python",
   "pygments_lexer": "ipython3",
   "version": "3.11.4"
  }
 },
 "nbformat": 4,
 "nbformat_minor": 5
}
