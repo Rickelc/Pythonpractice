{
 "cells": [
  {
   "cell_type": "markdown",
   "id": "3377b720",
   "metadata": {},
   "source": [
    "# Chapter 7 Exercises"
   ]
  },
  {
   "cell_type": "markdown",
   "id": "16146b79",
   "metadata": {},
   "source": [
    "## Algorithm Workbench Question 1 and 2"
   ]
  },
  {
   "cell_type": "code",
   "execution_count": 5,
   "id": "41da5801",
   "metadata": {},
   "outputs": [
    {
     "name": "stdout",
     "output_type": "stream",
     "text": [
      "Einstein\n",
      "Newton\n",
      "Copernicus\n",
      "Kepler\n"
     ]
    }
   ],
   "source": [
    "#Question 1 asks us to write a list containing certain names\n",
    "def main():\n",
    "    names = ['Einstein', 'Newton', 'Copernicus', 'Kepler']\n",
    "#Question 2 asks us to write a for loop that prints those names\n",
    "    for x in names:\n",
    "        #printing the names\n",
    "        print(x)\n",
    "    \n",
    "#call the function\n",
    "main()\n",
    "    "
   ]
  },
  {
   "cell_type": "markdown",
   "id": "b5ec4be2",
   "metadata": {},
   "source": [
    "## Algorithm Workbench Question 5"
   ]
  },
  {
   "cell_type": "code",
   "execution_count": 10,
   "id": "38cac084",
   "metadata": {},
   "outputs": [
    {
     "name": "stdout",
     "output_type": "stream",
     "text": [
      "264\n"
     ]
    }
   ],
   "source": [
    "#Question 5 asks us to pass a list of intergers as a function and get the total of the values\n",
    "#importing to be able to get random numbers\n",
    "import random\n",
    "\n",
    "def main():\n",
    "    #starting with a blank list\n",
    "    numbers = []\n",
    "    \n",
    "    #using a for loop to produce random numbers to the list\n",
    "    for x in range(5):\n",
    "        numbers.append(random.randint(1, 100))\n",
    "        \n",
    "    #printing the return of the other function to get the total\n",
    "    print(get_total(numbers))\n",
    "\n",
    "def get_total(num_list):\n",
    "    #starting out with a value of 0\n",
    "    total = 0\n",
    "    \n",
    "    # using a loop to continuously add the new values to the total\n",
    "    for num in num_list:\n",
    "        total += num\n",
    "    #returning the finished value\n",
    "    return total\n",
    "    \n",
    "main()"
   ]
  },
  {
   "cell_type": "markdown",
   "id": "c29faa87",
   "metadata": {},
   "source": [
    "## Programming Exercises Question 1"
   ]
  },
  {
   "cell_type": "code",
   "execution_count": 38,
   "id": "c6f615aa",
   "metadata": {},
   "outputs": [
    {
     "name": "stdout",
     "output_type": "stream",
     "text": [
      "Enter the sales for the day:1234\n",
      "Do you have another day to add? Enter y for yes:y\n",
      "Enter the sales for the day:2345\n",
      "Do you have another day to add? Enter y for yes:y\n",
      "Enter the sales for the day:3456\n",
      "Do you have another day to add? Enter y for yes:y\n",
      "Enter the sales for the day:4567\n",
      "Do you have another day to add? Enter y for yes:y\n",
      "Enter the sales for the day:5678\n",
      "Do you have another day to add? Enter y for yes:n\n"
     ]
    },
    {
     "ename": "TypeError",
     "evalue": "'int' object is not iterable",
     "output_type": "error",
     "traceback": [
      "\u001b[1;31m---------------------------------------------------------------------------\u001b[0m",
      "\u001b[1;31mTypeError\u001b[0m                                 Traceback (most recent call last)",
      "Cell \u001b[1;32mIn[38], line 30\u001b[0m\n\u001b[0;32m     24\u001b[0m         total \u001b[38;5;241m+\u001b[39m\u001b[38;5;241m=\u001b[39m values\n\u001b[0;32m     26\u001b[0m     \u001b[38;5;28;01mreturn\u001b[39;00m total\n\u001b[1;32m---> 30\u001b[0m main()\n",
      "Cell \u001b[1;32mIn[38], line 16\u001b[0m, in \u001b[0;36mmain\u001b[1;34m()\u001b[0m\n\u001b[0;32m      9\u001b[0m     values\u001b[38;5;241m.\u001b[39mappend(num)\n\u001b[0;32m     11\u001b[0m     again \u001b[38;5;241m=\u001b[39m \u001b[38;5;28minput\u001b[39m(\u001b[38;5;124m'\u001b[39m\u001b[38;5;124mDo you have another day to add? Enter y for yes:\u001b[39m\u001b[38;5;124m'\u001b[39m)\n\u001b[1;32m---> 16\u001b[0m \u001b[38;5;28mprint\u001b[39m(\u001b[38;5;124m'\u001b[39m\u001b[38;5;124mThe total sales for the week is:\u001b[39m\u001b[38;5;124m'\u001b[39m, get_total(values))\n",
      "Cell \u001b[1;32mIn[38], line 23\u001b[0m, in \u001b[0;36mget_total\u001b[1;34m(values)\u001b[0m\n\u001b[0;32m     19\u001b[0m \u001b[38;5;28;01mdef\u001b[39;00m \u001b[38;5;21mget_total\u001b[39m(values):\n\u001b[0;32m     20\u001b[0m     total \u001b[38;5;241m=\u001b[39m \u001b[38;5;241m0\u001b[39m\n\u001b[1;32m---> 23\u001b[0m     \u001b[38;5;28;01mfor\u001b[39;00m x \u001b[38;5;129;01min\u001b[39;00m \u001b[38;5;28mlen\u001b[39m(values):\n\u001b[0;32m     24\u001b[0m         total \u001b[38;5;241m+\u001b[39m\u001b[38;5;241m=\u001b[39m values\n\u001b[0;32m     26\u001b[0m     \u001b[38;5;28;01mreturn\u001b[39;00m total\n",
      "\u001b[1;31mTypeError\u001b[0m: 'int' object is not iterable"
     ]
    }
   ],
   "source": [
    "def main():\n",
    "    \n",
    "    again = 'y'\n",
    "    values = []\n",
    "   \n",
    "    \n",
    "    while again == 'y':\n",
    "        num = float(input('Enter the sales for the day:'))\n",
    "        values.append(num)\n",
    "        \n",
    "        again = input('Do you have another day to add? Enter y for yes:')\n",
    "        \n",
    "    \n",
    "        \n",
    "   \n",
    "    print('The total sales for the week is:', get_total(values))\n",
    "    \n",
    "\n",
    "def get_total(values):\n",
    "    total = 0\n",
    "    \n",
    "\n",
    "    for x in len(values):\n",
    "        total += values\n",
    "    \n",
    "    return total\n",
    "    \n",
    "  \n",
    "\n",
    "main()    \n",
    "    \n",
    "    \n"
   ]
  },
  {
   "cell_type": "code",
   "execution_count": null,
   "id": "86c64462",
   "metadata": {},
   "outputs": [],
   "source": []
  }
 ],
 "metadata": {
  "kernelspec": {
   "display_name": "Python 3 (ipykernel)",
   "language": "python",
   "name": "python3"
  },
  "language_info": {
   "codemirror_mode": {
    "name": "ipython",
    "version": 3
   },
   "file_extension": ".py",
   "mimetype": "text/x-python",
   "name": "python",
   "nbconvert_exporter": "python",
   "pygments_lexer": "ipython3",
   "version": "3.11.4"
  }
 },
 "nbformat": 4,
 "nbformat_minor": 5
}
