{
 "cells": [
  {
   "cell_type": "markdown",
   "id": "13b8a17b",
   "metadata": {},
   "source": [
    "# Chapter 11 Question 1"
   ]
  },
  {
   "cell_type": "code",
   "execution_count": 4,
   "id": "07add727",
   "metadata": {},
   "outputs": [
    {
     "name": "stdout",
     "output_type": "stream",
     "text": [
      "Enter the name of the Employee: Cameron Rickel\n",
      "Enter the Employee's ID number: 36850\n",
      "Enter which shift number that the Employee works. (1 or 2): 2\n",
      "Enter the Employee's hourly pay rate: 20\n",
      "Here is the data you entered: \n",
      "\n",
      "Name: Cameron Rickel\n",
      "ID number: 36850\n",
      "Shift Number: 2\n",
      "Hourly Pay Rate: 20\n"
     ]
    }
   ],
   "source": [
    "#importing the classes \n",
    "import employee\n",
    "\n",
    "def main():\n",
    "    #making variables for the user input\n",
    "    name_employ = input(\"Enter the name of the Employee: \")\n",
    "    id_employ = input(\"Enter the Employee's ID number: \")\n",
    "    shift = input(\"Enter which shift number that the Employee works. (1 or 2): \")\n",
    "    pay = input(\"Enter the Employee's hourly pay rate: \")\n",
    "    \n",
    "    #giving the variable values to the data attribues of the classes\n",
    "    worker_info = employee.Productionworker(name_employ, id_employ, shift, pay)\n",
    "    \n",
    "    #displaying the user input by calling the methods and having them return the values\n",
    "    print(\"Here is the data you entered: \")\n",
    "    print()\n",
    "    print(\"Name:\", worker_info.get_name())\n",
    "    print(\"ID number:\", worker_info.get_id_num())\n",
    "    print(\"Shift Number:\", worker_info.get_shift_num())\n",
    "    print(\"Hourly Pay Rate:\", worker_info.get_pay_rate())\n",
    "#calling the main function    \n",
    "main()\n",
    "    "
   ]
  },
  {
   "cell_type": "markdown",
   "id": "aaf5808d",
   "metadata": {},
   "source": [
    "# Chapter 11 Question 3"
   ]
  },
  {
   "cell_type": "markdown",
   "id": "ecf2c593",
   "metadata": {},
   "source": [
    "In this program I will be taking a previously made Person superclass and customer subclass and making the user put in the info for the methods I made and them displaying them so that we know that the class works."
   ]
  },
  {
   "cell_type": "code",
   "execution_count": null,
   "id": "58b9c46d",
   "metadata": {},
   "outputs": [
    {
     "name": "stdout",
     "output_type": "stream",
     "text": [
      "Enter the customer's name: Cameron Rickel\n"
     ]
    }
   ],
   "source": [
    "#Here we imported the text file with the classes I had previously made for this exercise\n",
    "import person\n",
    "\n",
    "def main():\n",
    "    #here I am making the variable for the input from the user for the required info\n",
    "    name_cust = input(\"Enter the customer's name: \")\n",
    "    address_cust = input(\"Enter the customer's address: \")\n",
    "    tele_cust = input(\"Enter the customer's telephone number: \")\n",
    "    num_cust = input(\"Enter the customer's given number: \")\n",
    "    mail_cust = input(\"Does the customer want to be put on a mailing list?(yes or no): \")\n",
    "    \n",
    "    #Here I am calling the subclass, making my variables be assigned to all of the attributes of the class\n",
    "    customer_info = person.Customer(name_cust, address_cust, tele_cust, num_cust, mail_cust)\n",
    "    \n",
    "    #Here is where I am displaying what the user had entered for the customer info by calling the methods where they return the input to the program\n",
    "    print(\"Here is the data you entered for the customer: \")\n",
    "    print()\n",
    "    print(\"Name:\", customer_info.get_name())\n",
    "    print(\"Address:\", customer_info.get_address())\n",
    "    print(\"Telephone Number:\", customer_info.get_tele_num())\n",
    "    print(\"Customer Number:\", customer_info.get_cust_num())\n",
    "    #for the Boolean mailing list variable, I am using an if statement to change the output depending on whether the user inputs yes or something else\n",
    "    if mail_cust == \"yes\" or \"Yes\":\n",
    "        mail_cust = True\n",
    "        print(\"The customer is on the mailing list.\")\n",
    "    else:\n",
    "        mail_cust = False\n",
    "        print(\"The customer does not want to be on the mailing list.\")\n",
    "        \n",
    "#calling the main function\n",
    "main()\n",
    "        \n",
    "        "
   ]
  },
  {
   "cell_type": "code",
   "execution_count": null,
   "id": "f9700748",
   "metadata": {},
   "outputs": [],
   "source": []
  }
 ],
 "metadata": {
  "kernelspec": {
   "display_name": "Python 3 (ipykernel)",
   "language": "python",
   "name": "python3"
  },
  "language_info": {
   "codemirror_mode": {
    "name": "ipython",
    "version": 3
   },
   "file_extension": ".py",
   "mimetype": "text/x-python",
   "name": "python",
   "nbconvert_exporter": "python",
   "pygments_lexer": "ipython3",
   "version": "3.11.4"
  }
 },
 "nbformat": 4,
 "nbformat_minor": 5
}
