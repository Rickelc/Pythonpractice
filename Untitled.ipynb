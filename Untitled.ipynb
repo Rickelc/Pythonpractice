{
 "cells": [
  {
   "cell_type": "markdown",
   "id": "b244687c",
   "metadata": {},
   "source": [
    "# Chapter 2 Exercises\n",
    "\n",
    "## Algorithm Workbench - Number 4"
   ]
  },
  {
   "cell_type": "code",
   "execution_count": 38,
   "id": "417865ad",
   "metadata": {},
   "outputs": [],
   "source": [
    "w = 5\n",
    "x = 4\n",
    "y = 8\n",
    "z = 2"
   ]
  },
  {
   "cell_type": "markdown",
   "id": "15903f6d",
   "metadata": {},
   "source": [
    "### We are tasked with finding out what different operations will display assuming the above values of these variables"
   ]
  },
  {
   "cell_type": "code",
   "execution_count": 39,
   "id": "3ab914d6",
   "metadata": {},
   "outputs": [
    {
     "name": "stdout",
     "output_type": "stream",
     "text": [
      "12\n"
     ]
    }
   ],
   "source": [
    "result1 = x + y\n",
    "print (result1)"
   ]
  },
  {
   "cell_type": "markdown",
   "id": "f4f3f8a8",
   "metadata": {},
   "source": [
    "As we can see above the result of inputing the operation of x + y assuming x = 4 and y = 8 we get a result of 12"
   ]
  },
  {
   "cell_type": "code",
   "execution_count": 40,
   "id": "2f729a50",
   "metadata": {},
   "outputs": [
    {
     "name": "stdout",
     "output_type": "stream",
     "text": [
      "4\n"
     ]
    }
   ],
   "source": [
    "result2 = z * 2\n",
    "print (result2) "
   ]
  },
  {
   "cell_type": "markdown",
   "id": "7e9837c4",
   "metadata": {},
   "source": [
    "As we can see above the result of inputing the operation of z * 2 assuming z = 2 we get a result of 4"
   ]
  },
  {
   "cell_type": "code",
   "execution_count": 41,
   "id": "25e48464",
   "metadata": {},
   "outputs": [
    {
     "name": "stdout",
     "output_type": "stream",
     "text": [
      "2.0\n"
     ]
    }
   ],
   "source": [
    "result3 = y / x\n",
    "print (result3)"
   ]
  },
  {
   "cell_type": "markdown",
   "id": "13121b50",
   "metadata": {},
   "source": [
    "As we can see above the result of inputing the operation of y / x assuming y = 8 and x = 4 we get a result of 2.0"
   ]
  },
  {
   "cell_type": "code",
   "execution_count": 42,
   "id": "e43df07f",
   "metadata": {},
   "outputs": [
    {
     "name": "stdout",
     "output_type": "stream",
     "text": [
      "6\n"
     ]
    }
   ],
   "source": [
    "result4 = y - z\n",
    "print (result4)"
   ]
  },
  {
   "cell_type": "markdown",
   "id": "4c270427",
   "metadata": {},
   "source": [
    "As we can see above the result of inputing the operation of y - z assuming y = 8 and z = 2 we get a result of 6"
   ]
  },
  {
   "cell_type": "code",
   "execution_count": 43,
   "id": "143f62af",
   "metadata": {},
   "outputs": [
    {
     "name": "stdout",
     "output_type": "stream",
     "text": [
      "2\n"
     ]
    }
   ],
   "source": [
    "result5 = w // z\n",
    "print (result5)"
   ]
  },
  {
   "cell_type": "markdown",
   "id": "14ee658c",
   "metadata": {},
   "source": [
    "As we can see above the result of inputing the operation of w // z assuming w = 5 and z = 2 we get a result of 2 because the double slash symbol removes any fractional part of the result."
   ]
  },
  {
   "cell_type": "markdown",
   "id": "e448447b",
   "metadata": {},
   "source": [
    "## Programming Exercises - Number 5\n",
    "\n",
    "### We are tasked with writing a program that displays differents values with the equation Distance = Speed * Time"
   ]
  },
  {
   "cell_type": "markdown",
   "id": "c19d1eae",
   "metadata": {},
   "source": [
    "First we need to find how far a car travels in 6 hours going 70 miles per hour"
   ]
  },
  {
   "cell_type": "code",
   "execution_count": 44,
   "id": "9724f94e",
   "metadata": {},
   "outputs": [
    {
     "name": "stdout",
     "output_type": "stream",
     "text": [
      "420 miles\n"
     ]
    }
   ],
   "source": [
    "# The constant speed for all 3 is 70 miles per hour\n",
    "Speed = 70 \n",
    "# Time for this equation is 6 hours \n",
    "Time1 = 6\n",
    "# main equation variable \n",
    "Distance1 = Speed * Time1\n",
    "print (Distance1, \"miles\")\n"
   ]
  },
  {
   "cell_type": "markdown",
   "id": "41e87a3f",
   "metadata": {},
   "source": [
    "Now we need to find how far the car travels in 10 hours going the same speed"
   ]
  },
  {
   "cell_type": "code",
   "execution_count": 45,
   "id": "214fea5c",
   "metadata": {},
   "outputs": [
    {
     "name": "stdout",
     "output_type": "stream",
     "text": [
      "700 miles\n"
     ]
    }
   ],
   "source": [
    "Time2 = 10\n",
    "Distance2 = Speed * Time2\n",
    "print (Distance2, \"miles\")"
   ]
  },
  {
   "cell_type": "markdown",
   "id": "56c6fac0",
   "metadata": {},
   "source": [
    "Now we need to find how far the car travels in 15 hours going the same speed"
   ]
  },
  {
   "cell_type": "code",
   "execution_count": 46,
   "id": "f7b49c9d",
   "metadata": {},
   "outputs": [
    {
     "name": "stdout",
     "output_type": "stream",
     "text": [
      "1050 miles\n"
     ]
    }
   ],
   "source": [
    "Time3 = 15\n",
    "Distance3 = Speed * Time3\n",
    "print (Distance3, \"miles\")"
   ]
  },
  {
   "cell_type": "markdown",
   "id": "11e65987",
   "metadata": {},
   "source": [
    "## Programming Exercises - Number 13 Grapevines\n",
    "\n",
    "### We are tasked with having the user input values to form an equation to find out the number of grapevines that will fit into a row in a vineyard"
   ]
  },
  {
   "cell_type": "code",
   "execution_count": 48,
   "id": "a436da48",
   "metadata": {},
   "outputs": [
    {
     "name": "stdout",
     "output_type": "stream",
     "text": [
      "Please enter the length of the row in feet:100\n",
      "Please enter the amount of space used by an end-post assembly in feet:5\n",
      "Enter the amount of space between the vines in feet:3\n",
      "The number of grapevine in the row will be: 30.0\n"
     ]
    }
   ],
   "source": [
    "# R is the length of the row\n",
    "R = float(input(\"Please enter the length of the row in feet:\"))\n",
    "# E is the anmount of space used by the end-post assembly\n",
    "E = float(input(\"Please enter the amount of space used by an end-post assembly in feet:\"))\n",
    "# S is the amount of space between the vines\n",
    "S = float(input(\"Enter the amount of space between the vines in feet:\"))\n",
    "# 'V' is the number of grapevines that will fit into the row\n",
    "V = (R - 2 * E) / S\n",
    "\n",
    "print(\"The number of grapevine in the row will be:\", V)"
   ]
  },
  {
   "cell_type": "code",
   "execution_count": null,
   "id": "8f4631dd",
   "metadata": {},
   "outputs": [],
   "source": []
  }
 ],
 "metadata": {
  "kernelspec": {
   "display_name": "Python 3 (ipykernel)",
   "language": "python",
   "name": "python3"
  },
  "language_info": {
   "codemirror_mode": {
    "name": "ipython",
    "version": 3
   },
   "file_extension": ".py",
   "mimetype": "text/x-python",
   "name": "python",
   "nbconvert_exporter": "python",
   "pygments_lexer": "ipython3",
   "version": "3.11.4"
  }
 },
 "nbformat": 4,
 "nbformat_minor": 5
}
