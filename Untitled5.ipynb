{
 "cells": [
  {
   "cell_type": "markdown",
   "id": "01dd9f3c",
   "metadata": {},
   "source": [
    "# Chapter 6 Exercises"
   ]
  },
  {
   "cell_type": "markdown",
   "id": "a00f3103",
   "metadata": {},
   "source": [
    "## Algorithm Workbench Question 1"
   ]
  },
  {
   "cell_type": "code",
   "execution_count": 6,
   "id": "5d75baa4",
   "metadata": {},
   "outputs": [],
   "source": [
    "# I am going to be writing a program that writes my name onto a file\n",
    "\n",
    "def main():\n",
    "    #opening the new file\n",
    "    my_name = open('My_name.txt', 'w')\n",
    "    \n",
    "    #writing my name onto the file\n",
    "    my_name.write('Cameron Rickel\\n')\n",
    "    \n",
    "    #closing the file\n",
    "    my_name.close()\n",
    "    \n",
    "\n",
    "\n",
    "#calling my function\n",
    "main()\n",
    "\n",
    "    \n"
   ]
  },
  {
   "cell_type": "markdown",
   "id": "23fba8c3",
   "metadata": {},
   "source": [
    "## Algorithm Workbench Question 2"
   ]
  },
  {
   "cell_type": "code",
   "execution_count": 7,
   "id": "878eda2c",
   "metadata": {},
   "outputs": [
    {
     "name": "stdout",
     "output_type": "stream",
     "text": [
      "Cameron Rickel\n",
      "\n"
     ]
    }
   ],
   "source": [
    "#This question has me read the text that I created in question 1 and display it\n",
    "def read_file():\n",
    "    #opening the file for reading\n",
    "    infile = open('My_name.txt', 'r')\n",
    "    #creating the line to be read\n",
    "    line = infile.readline()\n",
    "    #closing the file\n",
    "    infile.close()\n",
    "    #printing the line for the program to show \n",
    "    print(line)\n",
    "\n",
    "#calling the function\n",
    "read_file()"
   ]
  },
  {
   "cell_type": "markdown",
   "id": "ef3c12be",
   "metadata": {},
   "source": [
    "## Programming Exercises Question 1"
   ]
  },
  {
   "cell_type": "code",
   "execution_count": null,
   "id": "61ae1710",
   "metadata": {},
   "outputs": [],
   "source": [
    "#This question asks us to take a file with integers and display all the numbers in the file\n",
    "#importing random to give the numbers file random numbers\n",
    "import random\n",
    "# making a file for the numbers to display\n",
    "def number_file():\n",
    "    numbers = open('numbers.txt', 'w')\n",
    "    #using a for loop to make the file always have random numbers every time the program runs\n",
    "    for x in range(1,6):\n",
    "        numbers.write(str(random.randint(1,100)) + '\\n')\n",
    " \n",
    "    #closing the file \n",
    "    numbers.close\n",
    "#calling the function before so that the file is made before reading it     \n",
    "number_file()\n",
    "\n",
    "def main():\n",
    "    read = open('numbers.txt' , 'r')\n",
    "    #reading  each line in the file\n",
    "    num1 = read.readline()\n",
    "    num2 = read.readline()\n",
    "    num3 = read.readline()\n",
    "    num4 = read.readline()\n",
    "    num5 = read.readline()\n",
    "    #stripping the newline off of all the strings\n",
    "    num1 = num1.rstrip('\\n')\n",
    "    num2 = num2.rstrip('\\n')\n",
    "    num3 = num3.rstrip('\\n')\n",
    "    num4 = num4.rstrip('\\n')\n",
    "    num5 = num5.rstrip('\\n')\n",
    "    #closing the file being read\n",
    "    read.close()\n",
    "    #displating the numbers\n",
    "    print(num1)\n",
    "    print(num2)\n",
    "    print(num3)\n",
    "    print(num4)\n",
    "    print(num5)\n",
    "#calling the main function  \n",
    "main()\n"
   ]
  },
  {
   "cell_type": "markdown",
   "id": "2cefa22d",
   "metadata": {},
   "source": [
    "## Programming Exercises Question 6"
   ]
  },
  {
   "cell_type": "code",
   "execution_count": 21,
   "id": "b8d33992",
   "metadata": {},
   "outputs": [
    {
     "name": "stdout",
     "output_type": "stream",
     "text": [
      "The average of the numbers is: 57.6\n"
     ]
    }
   ],
   "source": [
    "#This program wants us to get the average of the numbers stored in a file \n",
    "# I am going to use the file I created in the previous problem\n",
    "def main():\n",
    "    average = open('numbers.txt', 'r')\n",
    "    \n",
    "    num1 = int(average.readline())\n",
    "    num2 = int(average.readline())\n",
    "    num3 = int(average.readline())\n",
    "    num4 = int(average.readline())\n",
    "    num5 = int(average.readline())\n",
    "    \n",
    "    average.close\n",
    "    \n",
    "    total = (num1 + num2 + num3 + num4 + num5) / 5\n",
    "    \n",
    "    print('The average of the numbers is:', total)\n",
    "\n",
    "main()"
   ]
  },
  {
   "cell_type": "markdown",
   "id": "f51075bf",
   "metadata": {},
   "source": [
    "## Programing Exercises Question 9"
   ]
  },
  {
   "cell_type": "code",
   "execution_count": 25,
   "id": "674aa439",
   "metadata": {},
   "outputs": [
    {
     "name": "stdout",
     "output_type": "stream",
     "text": [
      "Non-numeric data was found in the file\n"
     ]
    }
   ],
   "source": [
    "# This question asks us to modify the code from question 6 to handle exceptions\n",
    "#copying the code from question 6\n",
    "def main():\n",
    "    #adding in the try statement\n",
    "    try:\n",
    "        average = open('numbers.txt', 'r')\n",
    "    \n",
    "        num1 = int(average.readline())\n",
    "        num2 = int(average.readline())\n",
    "        num3 = int(average.readline())\n",
    "        num4 = int(average.readline())\n",
    "        num5 = int(average.readline())\n",
    "    \n",
    "        average.close\n",
    "    \n",
    "        total = (num1 + num2 + num3 + num4 + num5) / 5\n",
    "    \n",
    "        print('The average of the numbers is:', total)\n",
    "     #adding in error messages in case of the requested exceptions   \n",
    "    except IOError:\n",
    "        print('An error occured trying to read the file')\n",
    "        \n",
    "    except ValueError:\n",
    "        print('Non-numeric data was found in the file')\n",
    "\n",
    "main()"
   ]
  },
  {
   "cell_type": "markdown",
   "id": "16c3688b",
   "metadata": {},
   "source": [
    "## Programming Exercises Question 5"
   ]
  },
  {
   "cell_type": "code",
   "execution_count": 28,
   "id": "5daed2ab",
   "metadata": {},
   "outputs": [
    {
     "name": "stdout",
     "output_type": "stream",
     "text": [
      "The total of the numbers is: 201\n"
     ]
    }
   ],
   "source": [
    "# This question asks us to write a program that reads the numbers in a p\n",
    "def main():\n",
    "    add = open('numbers.txt', 'r')\n",
    "    \n",
    "    num1 = int(add.readline())\n",
    "    num2 = int(add.readline())\n",
    "    num3 = int(add.readline())\n",
    "    num4 = int(add.readline())\n",
    "    num5 = int(add.readline())\n",
    "    \n",
    "    add.close\n",
    "    \n",
    "    total = (num1 + num2 + num3 + num4 + num5) \n",
    "    \n",
    "    print('The total of the numbers is:', total)\n",
    "\n",
    "main()"
   ]
  },
  {
   "cell_type": "code",
   "execution_count": null,
   "id": "8d98a4b4",
   "metadata": {},
   "outputs": [],
   "source": []
  }
 ],
 "metadata": {
  "kernelspec": {
   "display_name": "Python 3 (ipykernel)",
   "language": "python",
   "name": "python3"
  },
  "language_info": {
   "codemirror_mode": {
    "name": "ipython",
    "version": 3
   },
   "file_extension": ".py",
   "mimetype": "text/x-python",
   "name": "python",
   "nbconvert_exporter": "python",
   "pygments_lexer": "ipython3",
   "version": "3.11.4"
  }
 },
 "nbformat": 4,
 "nbformat_minor": 5
}
