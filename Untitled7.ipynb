{
 "cells": [
  {
   "cell_type": "markdown",
   "id": "7483e564",
   "metadata": {},
   "source": [
    "# Chapter 8 Exercises"
   ]
  },
  {
   "cell_type": "markdown",
   "id": "b507f692",
   "metadata": {},
   "source": [
    "## Algorithm Workbench Question 2"
   ]
  },
  {
   "cell_type": "code",
   "execution_count": 1,
   "id": "fb86760e",
   "metadata": {},
   "outputs": [
    {
     "name": "stdout",
     "output_type": "stream",
     "text": [
      "The number of spaces in the string is 7\n"
     ]
    }
   ],
   "source": [
    "# This questions asks us to write a loop that counts the number of space characters in a string\n",
    "def main():\n",
    "    count = 0 \n",
    "    my_string = ('How many space characters are in this string?')\n",
    "    \n",
    "    for x in my_string:\n",
    "        if x == ' ':\n",
    "            count += 1\n",
    "    \n",
    "    \n",
    "    print('The number of spaces in the string is', count)\n",
    "\n",
    "main()"
   ]
  },
  {
   "cell_type": "markdown",
   "id": "24a1a5ce",
   "metadata": {},
   "source": [
    "## Algorithm Workbench Question 6"
   ]
  },
  {
   "cell_type": "code",
   "execution_count": 4,
   "id": "1f319a78",
   "metadata": {},
   "outputs": [
    {
     "name": "stdout",
     "output_type": "stream",
     "text": [
      "Before: tiny tim has many tall toys\n",
      "After: Tiny Tim has many Tall Toys\n"
     ]
    }
   ],
   "source": [
    "#This question asks us to change all instances of the letter t to uppercase\n",
    "def main():\n",
    "    my_string = ('tiny tim has many tall toys')\n",
    "    \n",
    "    print('Before:', my_string)\n",
    "    print('After:', my_string.replace('t', 'T'))\n",
    "main()"
   ]
  },
  {
   "cell_type": "markdown",
   "id": "737d28fd",
   "metadata": {},
   "source": [
    "## Programming Exercises Question 1"
   ]
  },
  {
   "cell_type": "code",
   "execution_count": null,
   "id": "31290455",
   "metadata": {},
   "outputs": [],
   "source": [
    "#This question asks us to display a person's initials from the name that the user enters\n",
    "def main():\n",
    "    first_name = input('Please enter your first name:')\n",
    "    \n",
    "    if first_name[0] == ' ':\n",
    "        print('That entry is not valid')\n",
    "    else:\n",
    "        middle_name = input('Please enter your middle name:')\n",
    "        if middle_name[0] == ' ':\n",
    "            print('That entry is not valid')\n",
    "        else:\n",
    "            last_name = input('Please enter your last name:')\n",
    "            if last_name[0] == ' ':\n",
    "                print('That entry is not valid')\n",
    "            else:\n",
    "                inital1 = first_name[0]\n",
    "                inital2 = middle_name[0]\n",
    "                inital3 = last_name[0]\n",
    "    \n",
    "                print('Your initals are:', inital1, inital2, inital3)\n",
    "        \n",
    "    \n",
    "main()"
   ]
  },
  {
   "cell_type": "code",
   "execution_count": null,
   "id": "83864f55",
   "metadata": {},
   "outputs": [],
   "source": []
  }
 ],
 "metadata": {
  "kernelspec": {
   "display_name": "Python 3 (ipykernel)",
   "language": "python",
   "name": "python3"
  },
  "language_info": {
   "codemirror_mode": {
    "name": "ipython",
    "version": 3
   },
   "file_extension": ".py",
   "mimetype": "text/x-python",
   "name": "python",
   "nbconvert_exporter": "python",
   "pygments_lexer": "ipython3",
   "version": "3.11.4"
  }
 },
 "nbformat": 4,
 "nbformat_minor": 5
}
