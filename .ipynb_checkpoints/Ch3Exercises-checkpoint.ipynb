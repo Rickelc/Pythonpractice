{
 "cells": [
  {
   "cell_type": "markdown",
   "id": "eb36a115",
   "metadata": {},
   "source": [
    "# Chapter 3 Exercises"
   ]
  },
  {
   "cell_type": "markdown",
   "id": "16f3190a",
   "metadata": {},
   "source": [
    "## Algorithm Workbench Question 4"
   ]
  },
  {
   "cell_type": "code",
   "execution_count": 1,
   "id": "059d9cc3",
   "metadata": {
    "scrolled": true
   },
   "outputs": [
    {
     "name": "stdout",
     "output_type": "stream",
     "text": [
      "Please enter your grade:67\n",
      "Your grade is D.\n"
     ]
    }
   ],
   "source": [
    "# adding variables so that the code will work properly\n",
    "score = float(input(\"Please enter your grade:\"))\n",
    "A_score = 90\n",
    "B_score = 80\n",
    "C_score = 70\n",
    "D_score = 60\n",
    "# We are asked to correct the indentation of the following code\n",
    "if score >= A_score:\n",
    "    print ('Your grade is A.')\n",
    "else: \n",
    "    if score >= B_score:\n",
    "        print ('Your grade is B.')\n",
    "    else:\n",
    "        if score >= C_score:\n",
    "            print('Your grade is C.')\n",
    "        else:\n",
    "            if score >= D_score:\n",
    "                print('Your grade is D.')\n",
    "            else:\n",
    "                 print('Your grade is F.')\n",
    "# had some issues in both of these workbench problems remembering the correct indentation after the if statement"
   ]
  },
  {
   "cell_type": "markdown",
   "id": "8e6aad4f",
   "metadata": {},
   "source": [
    "##  Algorithm Workbench Question 5"
   ]
  },
  {
   "cell_type": "code",
   "execution_count": null,
   "id": "efbb1083",
   "metadata": {},
   "outputs": [],
   "source": [
    "# We are asked to write a code that shows which amount entered is greater than the other\n",
    "amount1 = float(input(\"Please enter amount1:\"))\n",
    "amount2 = float(input(\"Please enter amount2:\"))\n",
    "if amount1 > 10 and amount2 < 100:\n",
    "    if amount1 > amount2:\n",
    "        print (amount1)\n",
    "    else:\n",
    "        print (amount2)"
   ]
  },
  {
   "cell_type": "markdown",
   "id": "3b7db137",
   "metadata": {},
   "source": [
    "## Programming Exercises Question 1"
   ]
  },
  {
   "cell_type": "code",
   "execution_count": 1,
   "id": "c964b742",
   "metadata": {},
   "outputs": [
    {
     "name": "stdout",
     "output_type": "stream",
     "text": [
      "Enter a whole number between 1 and 7: 9\n",
      "Error: Please enter a number 1 through 7\n"
     ]
    }
   ],
   "source": [
    "# We are asked to write a program that asks the user for a number in the range of 1 through 7 and then displaying what day of the week that number corresponds to\n",
    "# asking the user to enter a number 1-7\n",
    "number = float(input('Enter a whole number between 1 and 7: '))\n",
    "#adding the if for numbers 1-7\n",
    "if number == 1:\n",
    "    print('Today is Monday.')\n",
    "elif number == 2:\n",
    "    print('Today is Tuesday.')\n",
    "elif number == 3:\n",
    "    print('Today is Wednesday.')\n",
    "elif number == 4:\n",
    "    print('Today is Thursday.')\n",
    "elif number == 5:\n",
    "    print('Today is Friday.')\n",
    "elif number == 6:\n",
    "    print('Today is Saturday.')\n",
    "elif number == 7:\n",
    "    print('Today is Sunday.')\n",
    "# adding the asked for error message when a number this is not 1 through 7 is entered\n",
    "else:\n",
    "    print('Error: Please enter a number 1 through 7')\n",
    "        "
   ]
  },
  {
   "cell_type": "markdown",
   "id": "48e4f643",
   "metadata": {},
   "source": [
    "## Programming Exercises Question 5"
   ]
  },
  {
   "cell_type": "code",
   "execution_count": null,
   "id": "4cb74554",
   "metadata": {},
   "outputs": [],
   "source": []
  }
 ],
 "metadata": {
  "kernelspec": {
   "display_name": "Python 3 (ipykernel)",
   "language": "python",
   "name": "python3"
  },
  "language_info": {
   "codemirror_mode": {
    "name": "ipython",
    "version": 3
   },
   "file_extension": ".py",
   "mimetype": "text/x-python",
   "name": "python",
   "nbconvert_exporter": "python",
   "pygments_lexer": "ipython3",
   "version": "3.11.4"
  }
 },
 "nbformat": 4,
 "nbformat_minor": 5
}
