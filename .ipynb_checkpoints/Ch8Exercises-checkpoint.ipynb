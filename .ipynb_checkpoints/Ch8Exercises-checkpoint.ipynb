{
 "cells": [
  {
   "cell_type": "markdown",
   "id": "c2356669",
   "metadata": {},
   "source": [
    "# Chapter 8 Exercises"
   ]
  },
  {
   "cell_type": "markdown",
   "id": "b90605c5",
   "metadata": {},
   "source": [
    "## Algorithm Workbench Question 2"
   ]
  },
  {
   "cell_type": "markdown",
   "id": "20b8879c",
   "metadata": {},
   "source": [
    "This question was a matter of making sure that if the character is a space that it added to a variable, and that's exactly what I did here. I made sure that there was a variable starting at zero to add to and then added to it if there was a space in the string"
   ]
  },
  {
   "cell_type": "code",
   "execution_count": 1,
   "id": "8c551764",
   "metadata": {},
   "outputs": [
    {
     "name": "stdout",
     "output_type": "stream",
     "text": [
      "The number of spaces in the string is 7\n"
     ]
    }
   ],
   "source": [
    "# This questions asks us to write a loop that counts the number of space characters in a string\n",
    "def main():\n",
    "    #setting the beginning count to zero\n",
    "    count = 0 \n",
    "    # giving a string to count spaces\n",
    "    my_string = ('How many space characters are in this string?')\n",
    "    # using a for loop to look for spaces in the string and add to count\n",
    "    for x in my_string:\n",
    "        if x == ' ':\n",
    "            count += 1\n",
    "    \n",
    "    #printing the results\n",
    "    print('The number of spaces in the string is', count)\n",
    "\n",
    "main()"
   ]
  },
  {
   "cell_type": "markdown",
   "id": "530c446d",
   "metadata": {},
   "source": [
    "## Algorithm Workbench Question 6"
   ]
  },
  {
   "cell_type": "markdown",
   "id": "f07c78e0",
   "metadata": {},
   "source": [
    "I went to the book for this one to remember what to use to replace an instance in a string a string with another. This was simplier since it only wanted us to change the letter T in the string, I made up my own string to use and printed a before and after to see the change with all the lowercase t to uppercase T."
   ]
  },
  {
   "cell_type": "code",
   "execution_count": 4,
   "id": "4bcc88c1",
   "metadata": {},
   "outputs": [
    {
     "name": "stdout",
     "output_type": "stream",
     "text": [
      "Before: tiny tim has many tall toys\n",
      "After: Tiny Tim has many Tall Toys\n"
     ]
    }
   ],
   "source": [
    "#This question asks us to change all instances of the letter t to uppercase\n",
    "def main():\n",
    "    #giving a string with a few t's to replace\n",
    "    my_string = ('tiny tim has many tall toys')\n",
    "    #printing a before to better show what changed\n",
    "    print('Before:', my_string)\n",
    "    #the after with the string replacing the t's to uppercaseq\n",
    "    print('After:', my_string.replace('t', 'T'))\n",
    "main()"
   ]
  },
  {
   "cell_type": "markdown",
   "id": "d09d170a",
   "metadata": {},
   "source": [
    "## Programming Exercises Question 1"
   ]
  },
  {
   "cell_type": "markdown",
   "id": "cc7fe553",
   "metadata": {},
   "source": [
    "This one took a bit of thinking. I wanted to make sure that the user couldn't just leave blank inputs so that the result left blanks. So I thought of making a few if statements so that if it was left blank, the program would stop and say that the input was invalid. As long as the first input for the user wasn't blank, the program would take that and display the correct initals."
   ]
  },
  {
   "cell_type": "code",
   "execution_count": 14,
   "id": "f2f61f6d",
   "metadata": {},
   "outputs": [
    {
     "name": "stdout",
     "output_type": "stream",
     "text": [
      "Please enter your first name:Cameron\n",
      "Please enter your middle name:Edward\n",
      "Please enter your last name:Rickel\n",
      "Your initals are: C E R\n"
     ]
    }
   ],
   "source": [
    "#This question asks us to display a person's initials from the name that the user enters\n",
    "def main():\n",
    "    #seperating the names to make it easier to find the initials\n",
    "    first_name = input('Please enter your first name:')\n",
    "    #using if's to make sure that the user is not entering nothing\n",
    "    if first_name[0] == ' ':\n",
    "        print('That entry is not valid')\n",
    "    #hiding the next steps behind else so that if there is a invalid input it will stop the program\n",
    "    else:\n",
    "        middle_name = input('Please enter your middle name:')\n",
    "        if middle_name[0] == ' ':\n",
    "            print('That entry is not valid')\n",
    "        else:\n",
    "            last_name = input('Please enter your last name:')\n",
    "            if last_name[0] == ' ':\n",
    "                print('That entry is not valid')\n",
    "            else:\n",
    "                #lastly giving variables to the first letter in the input to be able to print them\n",
    "                inital1 = first_name[0]\n",
    "                inital2 = middle_name[0]\n",
    "                inital3 = last_name[0]\n",
    "                #printing initals based on the input\n",
    "    \n",
    "                print('Your initals are:', inital1, inital2, inital3)\n",
    "        \n",
    "    \n",
    "main()"
   ]
  },
  {
   "cell_type": "markdown",
   "id": "e23ca766",
   "metadata": {},
   "source": [
    "## Programming Exercises Question 2"
   ]
  },
  {
   "cell_type": "markdown",
   "id": "650e8507",
   "metadata": {},
   "source": [
    "This was was all about changing what was inputted by the user to integers so that they could be added up. Starting with a variable that equals zero I used a for loop to take each digit, changed it into an integer and added it to the variable to get a total for what the user inputs"
   ]
  },
  {
   "cell_type": "code",
   "execution_count": 1,
   "id": "a1e41771",
   "metadata": {},
   "outputs": [
    {
     "name": "stdout",
     "output_type": "stream",
     "text": [
      "Enter a series of single digit numbers without spaces:5214\n",
      "The sum of the digits you entered is 12\n"
     ]
    }
   ],
   "source": [
    "#This question asks us to get a series of digits from the user and displays the sum of those digits\n",
    "def main():\n",
    "    #giving a variable to the input numbers\n",
    "    digits = input('Enter a series of single digit numbers without spaces:')\n",
    "    #starting the index or total variable at 0\n",
    "    index = 0\n",
    "    #for loop to getting the integer of the input and then adding that number to the total variable\n",
    "    for number in digits:\n",
    "        number = int(number)\n",
    "        index += number\n",
    "    #giving the result\n",
    "    print('The sum of the digits you entered is', index)\n",
    "\n",
    "main()\n",
    "        "
   ]
  },
  {
   "cell_type": "markdown",
   "id": "27eec298",
   "metadata": {},
   "source": [
    "## Programming Exercises Question 3"
   ]
  },
  {
   "cell_type": "markdown",
   "id": "7fdb698a",
   "metadata": {},
   "source": [
    "I will admit, this one took some looking up to find exactly how to make sure the format came back correctly. I had to split the input into a list from the slash then use a variable to assign the numbers for the month into the correct names and print it correctly from the month variable and the newly made list from the input"
   ]
  },
  {
   "cell_type": "code",
   "execution_count": 3,
   "id": "e563a052",
   "metadata": {},
   "outputs": [
    {
     "name": "stdout",
     "output_type": "stream",
     "text": [
      "Please enter date in the format mm/dd/yyyy:09/17/1999\n",
      "The new date format is September 17, 1999\n"
     ]
    }
   ],
   "source": [
    "def main():\n",
    "    #giving a variable to the input from the user\n",
    "    date = input('Please enter date in the format mm/dd/yyyy:')\n",
    "    #getting a variable that splits the input from the slashs\n",
    "    date_list = date.split('/')\n",
    "    # assigning months to the numbers in accordance with what the user may input\n",
    "    month = {1: 'January', 2: 'February', 3: 'March', 4: 'April', 5: 'May', 6: 'June', 7: 'July', 8: 'August', 9: 'September', 10: 'October', 11: 'November', 12: 'December'}\n",
    "    #printing the new format\n",
    "    print('The new date format is ' + month[int(date_list[0])] + ' ' + date_list[1] + ', ' + date_list[2])\n",
    "    \n",
    "main()"
   ]
  },
  {
   "cell_type": "markdown",
   "id": "5cad4907",
   "metadata": {},
   "source": [
    "## Programming Exercises Question 8"
   ]
  },
  {
   "cell_type": "markdown",
   "id": "b4c42487",
   "metadata": {},
   "source": [
    "This was proved a little difficult as well, realizing I had to make sure to cover everything for the sentence starters with if statements was the hard part. I Started with a variable for whether the sentence starts as true and covered each instance for which it would be false as not the start of the sentence and changed the letter to uppercase if it is true. With the blank string I also created, I added every character the loop went through (which is the entire inputted string) and added it to the blank string so that it came out as a newly modified string."
   ]
  },
  {
   "cell_type": "code",
   "execution_count": 1,
   "id": "bba3d96b",
   "metadata": {},
   "outputs": [
    {
     "name": "stdout",
     "output_type": "stream",
     "text": [
      "Please enter a string:hello. my name is Joe. what is your name?\n",
      "The modified string is: Hello. My name is Joe. What is your name?\n"
     ]
    }
   ],
   "source": [
    "def main():\n",
    "    #giving a variable to what the user inputs\n",
    "    string = input('Please enter a string:')\n",
    "    #starting the result or answer as a blank string \n",
    "    answer = ''\n",
    "    #using a variable starting as true to have a way for the program to know where a sentence starts\n",
    "    sentence_start = True\n",
    "    #changing the letter to uppercase if it is the sentence start\n",
    "    for character in string:\n",
    "        if sentence_start == True:\n",
    "            if character.isalpha():\n",
    "                #changing the letter to uppercase \n",
    "                character = character.upper()\n",
    "                #changing the variable to false\n",
    "                sentence_start = False\n",
    "            #making it false if the character is a number\n",
    "            elif character.isdigit():\n",
    "                sentence_start = False\n",
    "        #making sure that the variable changes to true after a sentence ender\n",
    "        if character == '.' or character == '!' or character == '?':\n",
    "            sentence_start = True\n",
    "        #adding the new characters to the answer\n",
    "        answer += character\n",
    "    #displaying the answer\n",
    "    print('The modified string is:', answer)\n",
    "\n",
    "main()"
   ]
  },
  {
   "cell_type": "code",
   "execution_count": null,
   "id": "da932887",
   "metadata": {},
   "outputs": [],
   "source": []
  }
 ],
 "metadata": {
  "kernelspec": {
   "display_name": "Python 3 (ipykernel)",
   "language": "python",
   "name": "python3"
  },
  "language_info": {
   "codemirror_mode": {
    "name": "ipython",
    "version": 3
   },
   "file_extension": ".py",
   "mimetype": "text/x-python",
   "name": "python",
   "nbconvert_exporter": "python",
   "pygments_lexer": "ipython3",
   "version": "3.11.4"
  }
 },
 "nbformat": 4,
 "nbformat_minor": 5
}
