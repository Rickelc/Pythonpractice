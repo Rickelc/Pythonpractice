{
 "cells": [
  {
   "cell_type": "markdown",
   "id": "8825584a",
   "metadata": {},
   "source": [
    "# Chapter 5 Exercises"
   ]
  },
  {
   "cell_type": "markdown",
   "id": "ebebe14e",
   "metadata": {},
   "source": [
    "## Algorithm Workbench Question 4\n",
    "### The question asks what will display  from the following code:\n",
    "def main():\n",
    "    x = 1\n",
    "    y= 3.4\n",
    "    print (x, y)\n",
    "    change_us(x, y)\n",
    "    print(x, y)\n",
    "def change_us(a, b)\n",
    "    a = 0\n",
    "    b = 0\n",
    "    print(a, b)\n",
    "main()\n",
    "\n",
    "\n",
    "I believe the code will display:\n",
    "1 3.4\n",
    "\n",
    "0 0\n",
    "\n",
    "1 3.4\n",
    "\n",
    "This is because what will be printed from x and y will always be the same in the same function unless called by a different function like in the function change_us. Since the variables were changed as arguments in the function change_us, they will display as different values only when that function is called. Otherwise their values will always be what is defined in the main function"
   ]
  },
  {
   "cell_type": "markdown",
   "id": "0ec66741",
   "metadata": {},
   "source": [
    "## Algorithm Workbench Question 6"
   ]
  },
  {
   "cell_type": "code",
   "execution_count": 2,
   "id": "c09a8689",
   "metadata": {},
   "outputs": [
    {
     "name": "stdout",
     "output_type": "stream",
     "text": [
      "97\n"
     ]
    }
   ],
   "source": [
    "#This question asks us to write a statement that generates a number 1 through 100 assigning it to the variable rand\n",
    "#importing the required module \n",
    "import random \n",
    "#assigning value to rand\n",
    "rand = random.randint(1, 100)\n",
    "print(rand)\n"
   ]
  },
  {
   "cell_type": "markdown",
   "id": "36f78fb9",
   "metadata": {},
   "source": [
    "## Programming Exercises Question 1"
   ]
  },
  {
   "cell_type": "code",
   "execution_count": 6,
   "id": "cb3b6d98",
   "metadata": {},
   "outputs": [
    {
     "name": "stdout",
     "output_type": "stream",
     "text": [
      "Enter a distance in Kilometers:75\n",
      "That amount converted to miles is 46.60 miles\n"
     ]
    }
   ],
   "source": [
    "#This question asks us to write a program that converts kilometers to miles \n",
    "#defining this as a function\n",
    "def main():\n",
    "    #Getting a number from the user\n",
    "    Kilo = int(input('Enter a distance in Kilometers:'))\n",
    "    #putting in the conversion\n",
    "    Miles = (Kilo * 0.6214)\n",
    "    #printing the result\n",
    "    print('That amount converted to miles is ' + format(Miles,',.2f'), 'miles')\n",
    "#calling the function\n",
    "main()\n",
    "    "
   ]
  },
  {
   "cell_type": "markdown",
   "id": "01187ba3",
   "metadata": {},
   "source": [
    "## Programming Exercises Question 17 Prime Numbers"
   ]
  },
  {
   "cell_type": "code",
   "execution_count": null,
   "id": "1a954d65",
   "metadata": {},
   "outputs": [],
   "source": []
  }
 ],
 "metadata": {
  "kernelspec": {
   "display_name": "Python 3 (ipykernel)",
   "language": "python",
   "name": "python3"
  },
  "language_info": {
   "codemirror_mode": {
    "name": "ipython",
    "version": 3
   },
   "file_extension": ".py",
   "mimetype": "text/x-python",
   "name": "python",
   "nbconvert_exporter": "python",
   "pygments_lexer": "ipython3",
   "version": "3.11.4"
  }
 },
 "nbformat": 4,
 "nbformat_minor": 5
}
