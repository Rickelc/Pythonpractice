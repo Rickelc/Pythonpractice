{
 "cells": [
  {
   "cell_type": "markdown",
   "id": "73884110",
   "metadata": {},
   "source": [
    "# Chapter 7 Exercises"
   ]
  },
  {
   "cell_type": "markdown",
   "id": "80a00e76",
   "metadata": {},
   "source": [
    "## Algorithm Workbench Question 1 and 2"
   ]
  },
  {
   "cell_type": "markdown",
   "id": "ecdc0c28",
   "metadata": {},
   "source": [
    " For this question I decided to do the first two workbench problems together since they go hand in hand. I started with making the list with the names listed in the problem and then I went and used a for loop to print names for every item in the list"
   ]
  },
  {
   "cell_type": "code",
   "execution_count": 5,
   "id": "764bc19d",
   "metadata": {},
   "outputs": [
    {
     "name": "stdout",
     "output_type": "stream",
     "text": [
      "Einstein\n",
      "Newton\n",
      "Copernicus\n",
      "Kepler\n"
     ]
    }
   ],
   "source": [
    "#Question 1 asks us to write a list containing certain names\n",
    "def main():\n",
    "    names = ['Einstein', 'Newton', 'Copernicus', 'Kepler']\n",
    "#Question 2 asks us to write a for loop that prints those names\n",
    "    for x in names:\n",
    "        #printing the names\n",
    "        print(x)\n",
    "    \n",
    "#call the function\n",
    "main()\n",
    "    "
   ]
  },
  {
   "cell_type": "markdown",
   "id": "24d7aa5f",
   "metadata": {},
   "source": [
    "## Algorithm Workbench Question 5"
   ]
  },
  {
   "cell_type": "markdown",
   "id": "49cd1bf4",
   "metadata": {},
   "source": [
    "For this question I decided instead of making a list with already determined numbers, that I would make it so the list would always be random and that running the program would always give a different result. For this I started with a blank list and used a for loop in order to make a random list of five numbers. To the get the total for this problem I used a different function and started out with a total of zero and then used a for loop again in order to add each number to the existing total starting at zero."
   ]
  },
  {
   "cell_type": "code",
   "execution_count": 10,
   "id": "ca194479",
   "metadata": {},
   "outputs": [
    {
     "name": "stdout",
     "output_type": "stream",
     "text": [
      "264\n"
     ]
    }
   ],
   "source": [
    "#Question 5 asks us to pass a list of integers as a function and get the total of the values\n",
    "#importing to be able to get random numbers\n",
    "import random\n",
    "\n",
    "def main():\n",
    "    #starting with a blank list\n",
    "    numbers = []\n",
    "    \n",
    "    #using a for loop to produce random numbers to the list\n",
    "    for x in range(5):\n",
    "        numbers.append(random.randint(1, 100))\n",
    "        \n",
    "    #printing the return of the other function to get the total\n",
    "    print(get_total(numbers))\n",
    "\n",
    "def get_total(num_list):\n",
    "    #starting out with a value of 0\n",
    "    total = 0\n",
    "    \n",
    "    # using a loop to continuously add the new values to the total\n",
    "    for num in num_list:\n",
    "        total += num\n",
    "    #returning the finished value\n",
    "    return total\n",
    "    \n",
    "main()"
   ]
  },
  {
   "cell_type": "markdown",
   "id": "d1309d62",
   "metadata": {},
   "source": [
    "## Programming Exercises Question 1"
   ]
  },
  {
   "cell_type": "markdown",
   "id": "119f5fdb",
   "metadata": {},
   "source": [
    "For this question I went with also getting user input on whether to add another day to the numbers in order for the user to determine how many days worth of sales to add. I started with a blank list and a variable with the string of 'y' and added to the list with the given user input, then having the program ask if there is another day to add. In order to add up the total I executed code basically the same as the previous problem using a for loop"
   ]
  },
  {
   "cell_type": "code",
   "execution_count": 39,
   "id": "08fd003c",
   "metadata": {},
   "outputs": [
    {
     "name": "stdout",
     "output_type": "stream",
     "text": [
      "Enter the sales for the day:1234\n",
      "Do you have another day to add? Enter y for yes:y\n",
      "Enter the sales for the day:2345\n",
      "Do you have another day to add? Enter y for yes:y\n",
      "Enter the sales for the day:3456\n",
      "Do you have another day to add? Enter y for yes:y\n",
      "Enter the sales for the day:4567\n",
      "Do you have another day to add? Enter y for yes:y\n",
      "Enter the sales for the day:5678\n",
      "Do you have another day to add? Enter y for yes:n\n",
      "The total sales for the week is: 17280.0\n"
     ]
    }
   ],
   "source": [
    "#Question 1 asks us to get input from the user on sales and calculate the total\n",
    "def main():\n",
    "    #letting the user determine how many values get added for the week\n",
    "    \n",
    "    again = 'y'\n",
    "    \n",
    "    #starting out with a blank list before the user adds them\n",
    "    values = []\n",
    "   \n",
    "    #While loop that keeps adding values as long as the user says yes\n",
    "    while again == 'y':\n",
    "        num = float(input('Enter the sales for the day:'))\n",
    "        values.append(num)\n",
    "        \n",
    "        again = input('Do you have another day to add? Enter y for yes:')\n",
    "        \n",
    "    \n",
    "        \n",
    "   #printing the total from the different function\n",
    "    print('The total sales for the week is:', get_total(values))\n",
    "    \n",
    "\n",
    "def get_total(values):\n",
    "    #starting with 0 for a total\n",
    "    total = 0\n",
    "    \n",
    "#adding up the values in a loop\n",
    "    for num in values:\n",
    "        total += num\n",
    "        \n",
    "    #returning the total\n",
    "    return total\n",
    "    \n",
    "  \n",
    "\n",
    "main()    \n",
    "    \n",
    "    \n"
   ]
  },
  {
   "cell_type": "markdown",
   "id": "2183a69b",
   "metadata": {},
   "source": [
    "## Programming Exercises Question 14"
   ]
  },
  {
   "cell_type": "markdown",
   "id": "eac18c95",
   "metadata": {},
   "source": [
    "I ran into a bit of trouble here with this problem, mostly because I wanted to try writing a file and appending the file to add the numbers but I could not figure out how to get that to work to come back and display the pie chart correctly. I decided to just create a file and put the numbers in manually and use that, thus starting with a blank list and appending the list with the numbers from the file. From there it was just a matter of creating the title and labels and telling the program what values to put into the chart."
   ]
  },
  {
   "cell_type": "code",
   "execution_count": 31,
   "id": "748d46e3",
   "metadata": {},
   "outputs": [
    {
     "data": {
      "image/png": "[encoded data removed]",
      "text/plain": [
       "<Figure size 640x480 with 1 Axes>"
      ]
     },
     "metadata": {},
     "output_type": "display_data"
    }
   ],
   "source": [
    "# This question asks us to create a text file that contains a pie chart of my expenses\n",
    "#importing the required package to make a pie chart\n",
    "import matplotlib.pyplot as plt\n",
    "\n",
    "def main():\n",
    "    #starting with a blank list\n",
    "    values = []\n",
    "    #opening our premade file\n",
    "    insert = open('Expenses.txt', 'r')\n",
    "    \n",
    "    #making variables for each number, reading them as a float and appending them to the list\n",
    "    pie_value1 = float(insert.readline())\n",
    "    values.append(pie_value1)\n",
    "    pie_value2 = float(insert.readline())\n",
    "    values.append(pie_value2)\n",
    "    pie_value3 = float(insert.readline())\n",
    "    values.append(pie_value3)\n",
    "    pie_value4 = float(insert.readline())\n",
    "    values.append(pie_value4)\n",
    "    pie_value5 = float(insert.readline())\n",
    "    values.append(pie_value5)\n",
    "    pie_value6 = float(insert.readline())\n",
    "    values.append(pie_value6)\n",
    "    \n",
    "    #closing the file\n",
    "    insert.close\n",
    "    \n",
    "    #creating a variable to insert as the chart labels\n",
    "    pie_labels = ['Rent', 'Gas', 'Food', 'Clothing', 'Car payment', 'Misc']\n",
    "    \n",
    "    #telling the program to make a chart based on the variables for the list\n",
    "    plt.pie(values, labels = pie_labels)\n",
    "    \n",
    "    #making a chart title\n",
    "    plt.title('Monthly Expenses')\n",
    "    \n",
    "    #showing the chart\n",
    "    plt.show()\n",
    "    \n",
    "#calling the function    \n",
    "main()"
   ]
  },
  {
   "cell_type": "markdown",
   "id": "e4480116",
   "metadata": {},
   "source": [
    "## Programming Exercises Question 2"
   ]
  },
  {
   "cell_type": "markdown",
   "id": "f992f3d2",
   "metadata": {},
   "source": [
    "This problem was relativly simple, I created a blank list and then as I did previously, I created a for loop to generate the random numbers needed for the lottery numbers. I also used a loop to print every number in the list."
   ]
  },
  {
   "cell_type": "code",
   "execution_count": 13,
   "id": "6a8b5b82",
   "metadata": {},
   "outputs": [
    {
     "name": "stdout",
     "output_type": "stream",
     "text": [
      "3\n",
      "5\n",
      "0\n",
      "7\n",
      "1\n",
      "6\n",
      "9\n"
     ]
    }
   ],
   "source": [
    "#This question asks us to make and print randomly generated lottery numbers\n",
    "#importing the random package\n",
    "import random\n",
    "def main():\n",
    "    #starting with a blank list\n",
    "    lottery_number = []\n",
    "    #using a loop to append the list with random numbers 0-9\n",
    "    for x in range(7):\n",
    "        lottery_number.append(random.randint(0,9))\n",
    "    #using another loop to consecutivly print the numbers\n",
    "    for number in lottery_number:\n",
    "        print(number)\n",
    "main()"
   ]
  },
  {
   "cell_type": "markdown",
   "id": "3f091b7f",
   "metadata": {},
   "source": [
    "## Programming Exercises Question 4"
   ]
  },
  {
   "cell_type": "markdown",
   "id": "b8f502c6",
   "metadata": {},
   "source": [
    "This question was a mix of what I had done in a couple of previous questions. I made a blank list and used a for loop in order to append the list with whatever numbers the user decides to input for 20 different numbers. After that I made use of min, max and sum in order to easily produce those for the problem"
   ]
  },
  {
   "cell_type": "code",
   "execution_count": 1,
   "id": "ceb7e199",
   "metadata": {},
   "outputs": [
    {
     "name": "stdout",
     "output_type": "stream",
     "text": [
      "Enter the series of 20 numbers\n",
      "Enter number 1 : 1\n",
      "Enter number 2 : 2\n",
      "Enter number 3 : 3\n",
      "Enter number 4 : 4\n",
      "Enter number 5 : 5\n",
      "Enter number 6 : 6\n",
      "Enter number 7 : 7\n",
      "Enter number 8 : 8\n",
      "Enter number 9 : 9\n",
      "Enter number 10 : 10\n",
      "Enter number 11 : 11\n",
      "Enter number 12 : 12\n",
      "Enter number 13 : 13\n",
      "Enter number 14 : 14\n",
      "Enter number 15 : 15\n",
      "Enter number 16 : 16\n",
      "Enter number 17 : 17\n",
      "Enter number 18 : 18\n",
      "Enter number 19 : 19\n",
      "Enter number 20 : 20\n",
      "The lowest number in the list is: 1.0\n",
      "The highest number in the list is: 20.0\n",
      "The total of all the numbers in the list is: 210.0\n",
      "The average of the numbers in the list is: 10.5\n"
     ]
    }
   ],
   "source": [
    "def main():\n",
    "    #blank list\n",
    "    series = []\n",
    "    #asking the user to enter 20 numbers\n",
    "    print('Enter the series of 20 numbers')\n",
    "    #a loop to let the user input the 20 numbers\n",
    "    for index in range(20):\n",
    "        print('Enter number', index + 1, ': ', end='')\n",
    "        #creating the variable for the input\n",
    "        number = float(input())\n",
    "        #appending the input to the list\n",
    "        series.append(number)\n",
    "    #finding the lowest number using min    \n",
    "    lowest = min(series)\n",
    "    #finding the largest number using max\n",
    "    highest = max(series)\n",
    "    #using sum for the total\n",
    "    total = sum(series)\n",
    "    #using the total divided by the length of the list\n",
    "    average = total / len(series)\n",
    "    \n",
    "    #displaying the information calculated by the variables\n",
    "    print('The lowest number in the list is:', lowest)\n",
    "    print('The highest number in the list is:', highest)\n",
    "    print('The total of all the numbers in the list is:', total)\n",
    "    print('The average of the numbers in the list is:', average)\n",
    "#calling the function\n",
    "main()"
   ]
  },
  {
   "cell_type": "code",
   "execution_count": null,
   "id": "319c08d6",
   "metadata": {},
   "outputs": [],
   "source": []
  }
 ],
 "metadata": {
  "kernelspec": {
   "display_name": "Python 3 (ipykernel)",
   "language": "python",
   "name": "python3"
  },
  "language_info": {
   "codemirror_mode": {
    "name": "ipython",
    "version": 3
   },
   "file_extension": ".py",
   "mimetype": "text/x-python",
   "name": "python",
   "nbconvert_exporter": "python",
   "pygments_lexer": "ipython3",
   "version": "3.11.4"
  }
 },
 "nbformat": 4,
 "nbformat_minor": 5
}
