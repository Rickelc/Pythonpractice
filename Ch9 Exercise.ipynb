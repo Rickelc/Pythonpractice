{
 "cells": [
  {
   "cell_type": "markdown",
   "id": "275b4ac9",
   "metadata": {},
   "source": [
    "# Chapter 9 Exercise Question 9 Blackjack Simulation"
   ]
  },
  {
   "cell_type": "code",
   "execution_count": 1,
   "id": "bde23d20",
   "metadata": {},
   "outputs": [],
   "source": [
    "#importing my custom module\n",
    "import cardvalues"
   ]
  },
  {
   "cell_type": "code",
   "execution_count": 3,
   "id": "928767d5",
   "metadata": {},
   "outputs": [
    {
     "name": "stdout",
     "output_type": "stream",
     "text": [
      "Player 1's hand: ['Queen', '5']\n",
      "Player 2's hand: ['10', 'Jack']\n",
      "Player 1's hand: ['Queen', '5', '7']\n",
      "Player 2's hand: ['10', 'Jack']\n",
      "Player 2 wins!\n"
     ]
    }
   ],
   "source": [
    "import random\n",
    "#using a function to create a full deck by naming the types of cards and multiplying by 4 for a whole deck\n",
    "def create_deck():\n",
    "    return['2', '3', '4', '5', '6', '7', '8', '9', '10', 'Jack', 'Queen', 'King', 'Ace'] * 4\n",
    "\n",
    "def main():\n",
    "    #creating a variable for the deck that we made\n",
    "    deck = create_deck()\n",
    "    #shuffling the values of the deck just as you would in a real game\n",
    "    random.shuffle(deck)\n",
    "    player1_hand = []\n",
    "    player2_hand = []\n",
    "    \n",
    "    #giving the player's hands a first card value using the pop statement so that multiples of cards do not pop up\n",
    "    for x in range(2):\n",
    "        player1_hand.append(deck.pop())\n",
    "        player2_hand.append(deck.pop())\n",
    "        \n",
    "    #printing the values of the player's hands after the first card\n",
    "    print(\"Player 1's hand:\", player1_hand)\n",
    "    print(\"Player 2's hand:\", player2_hand)\n",
    "    \n",
    "    #using a while loop to repeat the process unless the value of the player's cards are over 17\n",
    "    while cardvalues.hand_value(player1_hand) < 17:\n",
    "        player1_hand.append(deck.pop())\n",
    "    \n",
    "    while cardvalues.hand_value(player2_hand) < 17:\n",
    "        player2_hand.append(deck.pop())\n",
    "    \n",
    "    print(\"Player 1's hand:\", player1_hand)\n",
    "    print(\"Player 2's hand:\", player2_hand)\n",
    "    \n",
    "    #giving a variable for their total scores to determine the winner\n",
    "    player1_score = cardvalues.hand_value(player1_hand)\n",
    "    player2_score = cardvalues.hand_value(player2_hand)  \n",
    "    \n",
    "    #giving if statements for every different scenario to the game to determine the winner of the game\n",
    "    if player1_score > 21 and player2_score > 21:\n",
    "        print(\"It's a tie!\")\n",
    "    elif player1_score > 21:\n",
    "        print(\"Player 2 wins!\")\n",
    "    elif player2_score > 21:\n",
    "        print(\"Player 1 wins!\")\n",
    "    elif player1_score == player2_score:\n",
    "        print(\"It's a tie!\")\n",
    "    elif player1_score > player2_score:\n",
    "        print(\"Player 1 wins!\")\n",
    "    else:\n",
    "        print(\"Player 2 wins!\")\n",
    "    \n",
    "#play the game\n",
    "main()"
   ]
  },
  {
   "cell_type": "code",
   "execution_count": null,
   "id": "f9ef52be",
   "metadata": {},
   "outputs": [],
   "source": []
  }
 ],
 "metadata": {
  "kernelspec": {
   "display_name": "Python 3 (ipykernel)",
   "language": "python",
   "name": "python3"
  },
  "language_info": {
   "codemirror_mode": {
    "name": "ipython",
    "version": 3
   },
   "file_extension": ".py",
   "mimetype": "text/x-python",
   "name": "python",
   "nbconvert_exporter": "python",
   "pygments_lexer": "ipython3",
   "version": "3.11.4"
  }
 },
 "nbformat": 4,
 "nbformat_minor": 5
}
